{
 "cells": [
  {
   "cell_type": "code",
   "execution_count": 25,
   "metadata": {
    "collapsed": true
   },
   "outputs": [],
   "source": [
    "import pandas as pd"
   ]
  },
  {
   "cell_type": "code",
   "execution_count": 29,
   "metadata": {
    "collapsed": false
   },
   "outputs": [
    {
     "name": "stdout",
     "output_type": "stream",
     "text": [
      "<class 'pandas.core.frame.DataFrame'>\n",
      "RangeIndex: 47 entries, 0 to 46\n",
      "Data columns (total 10 columns):\n",
      "approval_info       47 non-null object\n",
      "cancel_info         47 non-null object\n",
      "card                47 non-null object\n",
      "card_type           47 non-null object\n",
      "payment             47 non-null object\n",
      "payment_date        47 non-null object\n",
      "payment_type        47 non-null object\n",
      "post_date_time      47 non-null object\n",
      "reception_status    47 non-null object\n",
      "trans_branch        47 non-null object\n",
      "dtypes: object(10)\n",
      "memory usage: 3.8+ KB\n"
     ]
    }
   ],
   "source": [
    "result = pd.DataFrame(data)\n",
    "result.info()"
   ]
  },
  {
   "cell_type": "code",
   "execution_count": 30,
   "metadata": {
    "collapsed": false
   },
   "outputs": [
    {
     "data": {
      "text/plain": [
       "array(['2017.04.2213:37:52', '2017.04.2211:58:09', '2017.04.2019:16:12',\n",
       "       '2017.04.2015:07:37', '2017.04.2015:05:00', '2017.04.2015:04:55',\n",
       "       '2017.04.2013:35:23', '2017.04.2013:35:18', '2017.04.1922:09:42',\n",
       "       '2017.04.1817:30:52', '2017.04.1811:44:25', '2017.04.1811:38:25',\n",
       "       '2017.04.1718:44:36', '2017.04.1714:22:29', '2017.04.1614:21:40',\n",
       "       '2017.04.1519:38:56', '2017.04.1512:22:02', '2017.04.1510:20:07',\n",
       "       '2017.04.1421:41:33', '2017.04.1414:55:42', '2017.04.1414:15:55',\n",
       "       '2017.04.1411:24:11', '2017.04.1321:00:55', '2017.04.1316:03:15',\n",
       "       '2017.04.1313:54:51', '2017.04.1313:48:39', '2017.04.1313:44:08',\n",
       "       '2017.04.1309:32:36', '2017.04.1120:38:26', '2017.04.1116:18:43',\n",
       "       '2017.04.1113:28:05', '2017.04.1112:03:30', '2017.04.1108:34:28',\n",
       "       '2017.04.1108:30:28', '2017.04.1012:06:01', '2017.04.0921:40:08',\n",
       "       '2017.04.0915:46:33', '2017.04.0818:48:20', '2017.04.0811:57:24',\n",
       "       '2017.04.0722:10:04', '2017.04.0616:26:47', '2017.04.06 15:32:56',\n",
       "       '2017.04.06 13:12:39', '2017.04.06 13:11:07', '2017.04.03 20:38:21',\n",
       "       '2017.04.03 18:46:22'], dtype=object)"
      ]
     },
     "execution_count": 30,
     "metadata": {},
     "output_type": "execute_result"
    }
   ],
   "source": [
    "result.post_date_time = result.post_date_time.apply(lambda x: x.replace('2017.03.', '2017.04.'))\n",
    "result.post_date_time.unique()"
   ]
  },
  {
   "cell_type": "code",
   "execution_count": 9,
   "metadata": {
    "collapsed": true
   },
   "outputs": [],
   "source": [
    "import json"
   ]
  },
  {
   "cell_type": "code",
   "execution_count": 12,
   "metadata": {
    "collapsed": true
   },
   "outputs": [],
   "source": [
    "def dict_to_utf(d):\n",
    "    dutf = {}\n",
    "    for i in d:\n",
    "        for k,v in i.items():\n",
    "            if isinstance(v, str):\n",
    "                dutf[k] = v.encode('utf-8').decode('utf-8')\n",
    "            elif isinstance(v, dict):\n",
    "                dutf[k] = dict_to_utf(v)\n",
    "            else:\n",
    "                dutf[k] = v     \n",
    "            return dutf"
   ]
  },
  {
   "cell_type": "code",
   "execution_count": 13,
   "metadata": {
    "collapsed": false,
    "scrolled": true
   },
   "outputs": [
    {
     "data": {
      "text/plain": [
       "{'reception_status': '-'}"
      ]
     },
     "execution_count": 13,
     "metadata": {},
     "output_type": "execute_result"
    }
   ],
   "source": [
    "data2 = dict_to_utf(data)\n",
    "data2"
   ]
  },
  {
   "cell_type": "code",
   "execution_count": 52,
   "metadata": {
    "collapsed": true
   },
   "outputs": [],
   "source": [
    "with open('data.json', 'w') as fp:\n",
    "    json.dump(data3, fp, indent=4)"
   ]
  }
 ],
 "metadata": {
  "kernelspec": {
   "display_name": "Python 3",
   "language": "python",
   "name": "python3"
  },
  "language_info": {
   "codemirror_mode": {
    "name": "ipython",
    "version": 3
   },
   "file_extension": ".py",
   "mimetype": "text/x-python",
   "name": "python",
   "nbconvert_exporter": "python",
   "pygments_lexer": "ipython3",
   "version": "3.5.1"
  }
 },
 "nbformat": 4,
 "nbformat_minor": 2
}
