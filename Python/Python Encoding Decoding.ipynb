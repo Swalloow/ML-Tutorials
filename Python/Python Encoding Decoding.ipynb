{
 "cells": [
  {
   "cell_type": "code",
   "execution_count": 5,
   "metadata": {
    "collapsed": true
   },
   "outputs": [],
   "source": [
    "#-*- coding: utf-8 -*- "
   ]
  },
  {
   "cell_type": "code",
   "execution_count": 58,
   "metadata": {
    "collapsed": true
   },
   "outputs": [],
   "source": [
    "char = 'ÆìÂñÑ4ÅÐÁÇP¼^ÉØ¯C'"
   ]
  },
  {
   "cell_type": "code",
   "execution_count": 59,
   "metadata": {},
   "outputs": [],
   "source": [
    "result = char.encode('utf-8')"
   ]
  },
  {
   "cell_type": "code",
   "execution_count": 60,
   "metadata": {},
   "outputs": [
    {
     "data": {
      "text/plain": [
       "b'\\xc3\\x86\\xc3\\xac\\xc3\\x82\\xc3\\xb1\\xc3\\x914\\xc3\\x85\\xc3\\x90\\xc3\\x81\\xc3\\x87P\\xc2\\xbc^\\xc3\\x89\\xc3\\x98\\xc2\\xafC'"
      ]
     },
     "execution_count": 60,
     "metadata": {},
     "output_type": "execute_result"
    }
   ],
   "source": [
    "result"
   ]
  },
  {
   "cell_type": "code",
   "execution_count": 63,
   "metadata": {
    "scrolled": false
   },
   "outputs": [
    {
     "data": {
      "text/plain": [
       "'챙챰4P쩌^짱C'"
      ]
     },
     "execution_count": 63,
     "metadata": {},
     "output_type": "execute_result"
    }
   ],
   "source": [
    "result.decode('euc-kr', errors='ignore')"
   ]
  },
  {
   "cell_type": "code",
   "execution_count": 53,
   "metadata": {
    "collapsed": true
   },
   "outputs": [],
   "source": [
    "data = {u'payment_date': u'-', u'card_type': u'M946', u'post_date_time': u'2017.03.2213:37:52', u'cancel_info': u'-', u'approval_info': {u'card_type': u'MASTER \\uacb8\\uc6a9', u'card_num': u'5387-****-****-194*', u'phone_num': u'02-789-6072', u'branch_name': u'\\uc528\\uc72063\\ube4c\\ub529\\uc810', u'tip': u'0', u'corp_regi_num': u'107-20-84221', u'post_date_time': u'2017.03.22 13:37:52', u'branch_num': u'792636864', u'branch_addr': u'\\uc11c\\uc6b8 \\uc601\\ub4f1\\ud3ec\\uad6c \\uc5ec\\uc758\\ub3c4\\ub3d960\\ubc88\\uc9c0 63\\ud55c\\ud654\\uc0dd\\uba85\\ube4c\\ub529', u'approval_number': u'68219923', u'payment': u'8100', u'VAT': u'736', u'payment_type': u'\\uc77c\\uc2dc'}, u'reception_status': u'-', u'trans_branch': {u'business_type': u'\\ud3b8 \\uc758 \\uc810', u'phone_num': u'02-789-6072', u'name': u'\\uc528\\uc72063\\ube4c\\ub529\\uc810', u'corp_regi_num': u'1072084221', u'branch_num': u'792636864', u'representative': u'\\uc774\\ud604\\uc815', u'address': u'\\uc11c\\uc6b8 \\uc601\\ub4f1\\ud3ec\\uad6c \\uc5ec\\uc758\\ub3c4\\ub3d9 60\\ubc88\\uc9c0 63\\ud55c\\ud654\\uc0dd\\uba85\\ube4c\\ub529', u'homepage': u''}, u'payment': u'8100', u'card': u'\\uac00\\ub4dd\\ud55c\\ud560\\uc778 (\\uc2e0\\uc6a9)', u'payment_type': u'\\uc77c\\uc2dc'}"
   ]
  },
  {
   "cell_type": "code",
   "execution_count": 54,
   "metadata": {},
   "outputs": [
    {
     "data": {
      "text/plain": [
       "{'approval_info': {'VAT': '736',\n",
       "  'approval_number': '68219923',\n",
       "  'branch_addr': '서울 영등포구 여의도동60번지 63한화생명빌딩',\n",
       "  'branch_name': '씨유63빌딩점',\n",
       "  'branch_num': '792636864',\n",
       "  'card_num': '5387-****-****-194*',\n",
       "  'card_type': 'MASTER 겸용',\n",
       "  'corp_regi_num': '107-20-84221',\n",
       "  'payment': '8100',\n",
       "  'payment_type': '일시',\n",
       "  'phone_num': '02-789-6072',\n",
       "  'post_date_time': '2017.03.22 13:37:52',\n",
       "  'tip': '0'},\n",
       " 'cancel_info': '-',\n",
       " 'card': '가득한할인 (신용)',\n",
       " 'card_type': 'M946',\n",
       " 'payment': '8100',\n",
       " 'payment_date': '-',\n",
       " 'payment_type': '일시',\n",
       " 'post_date_time': '2017.03.2213:37:52',\n",
       " 'reception_status': '-',\n",
       " 'trans_branch': {'address': '서울 영등포구 여의도동 60번지 63한화생명빌딩',\n",
       "  'branch_num': '792636864',\n",
       "  'business_type': '편 의 점',\n",
       "  'corp_regi_num': '1072084221',\n",
       "  'homepage': '',\n",
       "  'name': '씨유63빌딩점',\n",
       "  'phone_num': '02-789-6072',\n",
       "  'representative': '이현정'}}"
      ]
     },
     "execution_count": 54,
     "metadata": {},
     "output_type": "execute_result"
    }
   ],
   "source": [
    "data"
   ]
  },
  {
   "cell_type": "code",
   "execution_count": 40,
   "metadata": {
    "collapsed": true
   },
   "outputs": [],
   "source": [
    "import json"
   ]
  },
  {
   "cell_type": "code",
   "execution_count": 57,
   "metadata": {},
   "outputs": [],
   "source": [
    "def dict_to_utf(d):\n",
    "    dutf = {}\n",
    "    for k,v in d.items():\n",
    "        if isinstance(v, str):\n",
    "            dutf[k] = v.encode('utf-8').decode('utf-8')\n",
    "        elif isinstance(v, dict):\n",
    "            dutf[k] = dict_to_utf(v)\n",
    "        else:\n",
    "            dutf[k] = v\n",
    "    return dutf"
   ]
  },
  {
   "cell_type": "code",
   "execution_count": 58,
   "metadata": {},
   "outputs": [
    {
     "data": {
      "text/plain": [
       "{'approval_info': {'VAT': '736',\n",
       "  'approval_number': '68219923',\n",
       "  'branch_addr': '서울 영등포구 여의도동60번지 63한화생명빌딩',\n",
       "  'branch_name': '씨유63빌딩점',\n",
       "  'branch_num': '792636864',\n",
       "  'card_num': '5387-****-****-194*',\n",
       "  'card_type': 'MASTER 겸용',\n",
       "  'corp_regi_num': '107-20-84221',\n",
       "  'payment': '8100',\n",
       "  'payment_type': '일시',\n",
       "  'phone_num': '02-789-6072',\n",
       "  'post_date_time': '2017.03.22 13:37:52',\n",
       "  'tip': '0'},\n",
       " 'cancel_info': '-',\n",
       " 'card': '가득한할인 (신용)',\n",
       " 'card_type': 'M946',\n",
       " 'payment': '8100',\n",
       " 'payment_date': '-',\n",
       " 'payment_type': '일시',\n",
       " 'post_date_time': '2017.03.2213:37:52',\n",
       " 'reception_status': '-',\n",
       " 'trans_branch': {'address': '서울 영등포구 여의도동 60번지 63한화생명빌딩',\n",
       "  'branch_num': '792636864',\n",
       "  'business_type': '편 의 점',\n",
       "  'corp_regi_num': '1072084221',\n",
       "  'homepage': '',\n",
       "  'name': '씨유63빌딩점',\n",
       "  'phone_num': '02-789-6072',\n",
       "  'representative': '이현정'}}"
      ]
     },
     "execution_count": 58,
     "metadata": {},
     "output_type": "execute_result"
    }
   ],
   "source": [
    "data2 = dict_to_utf(data)\n",
    "data2"
   ]
  },
  {
   "cell_type": "code",
   "execution_count": 51,
   "metadata": {},
   "outputs": [],
   "source": [
    "data3 = {'approval_info': {'VAT': '999',\n",
    "  'approval_number': '99999999',\n",
    "  'branch_addr': '서울 영등포구 여의도동60번지 63한화생명빌딩',\n",
    "  'branch_name': '씨유63빌딩점',\n",
    "  'branch_num': '999999999',\n",
    "  'card_num': '9999-****-****-999*',\n",
    "  'card_type': 'MASTER 겸용',\n",
    "  'corp_regi_num': '999-99-99999',\n",
    "  'payment': '8100',\n",
    "  'payment_type': '일시',\n",
    "  'phone_num': '02-999-9999',\n",
    "  'post_date_time': '2017.03.22 13:37:52',\n",
    "  'tip': '0'},\n",
    " 'cancel_info': '-',\n",
    " 'card': '가득한할인 (신용)',\n",
    " 'card_type': 'M999',\n",
    " 'payment': '8100',\n",
    " 'payment_date': '-',\n",
    " 'payment_type': '일시',\n",
    " 'post_date_time': '2017.03.2213:37:52',\n",
    " 'reception_status': '-',\n",
    " 'trans_branch': {'address': '서울 영등포구 여의도동 60번지 63한화생명빌딩',\n",
    "  'branch_num': '999999999',\n",
    "  'business_type': '편 의 점',\n",
    "  'corp_regi_num': '9999999999',\n",
    "  'homepage': '',\n",
    "  'name': '씨유63빌딩점',\n",
    "  'phone_num': '02-999-9999',\n",
    "  'representative': '홍길동'}}"
   ]
  },
  {
   "cell_type": "code",
   "execution_count": 52,
   "metadata": {
    "collapsed": true
   },
   "outputs": [],
   "source": [
    "with open('data.json', 'w') as fp:\n",
    "    json.dump(data3, fp, indent=4)"
   ]
  }
 ],
 "metadata": {
  "kernelspec": {
   "display_name": "Python 3",
   "language": "python",
   "name": "python3"
  },
  "language_info": {
   "codemirror_mode": {
    "name": "ipython",
    "version": 3
   },
   "file_extension": ".py",
   "mimetype": "text/x-python",
   "name": "python",
   "nbconvert_exporter": "python",
   "pygments_lexer": "ipython3",
   "version": "3.5.1"
  }
 },
 "nbformat": 4,
 "nbformat_minor": 2
}
