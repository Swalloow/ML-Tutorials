{
 "cells": [
  {
   "cell_type": "markdown",
   "metadata": {},
   "source": [
    "# Python Regular Expression\n",
    "파이썬은 정규표현식을 위해 re 모듈을 제공, 자동으로 설치되는 기본 라이브러리"
   ]
  },
  {
   "cell_type": "code",
   "execution_count": 1,
   "metadata": {
    "collapsed": true
   },
   "outputs": [],
   "source": [
    "import re\n",
    "import sys"
   ]
  },
  {
   "cell_type": "code",
   "execution_count": 2,
   "metadata": {
    "collapsed": true
   },
   "outputs": [],
   "source": [
    "text = '동해물과 백두산이 마르고 닳도록, 하느님이 보우하사 우리나라 만세.'"
   ]
  },
  {
   "cell_type": "markdown",
   "metadata": {},
   "source": [
    "### re.complie() : string을 regex 객체로 리턴\n",
    "- DOTALL(S) - . 이 줄바꿈 문자를 포함하여 모든 문자와 매치 가능\n",
    "- IGNORECASE(I) - 대소문자에 관계없이 매치 가능\n",
    "- MULTILINE(M) - 여러줄과 매치 가능 (^, $ 메타문자의 사용과 관계가 있는 옵션)\n",
    "- VERBOSE(X) - verbose 모드를 사용 (정규식을 보기 편하게 만들수 있고 주석등을 사용 가능)"
   ]
  },
  {
   "cell_type": "code",
   "execution_count": 3,
   "metadata": {
    "collapsed": false
   },
   "outputs": [
    {
     "data": {
      "text/plain": [
       "re.compile(r'...', re.DOTALL|re.UNICODE)"
      ]
     },
     "execution_count": 3,
     "metadata": {},
     "output_type": "execute_result"
    }
   ],
   "source": [
    "pattern_re = re.compile('...', re.DOTALL); pattern_re"
   ]
  },
  {
   "cell_type": "code",
   "execution_count": 4,
   "metadata": {
    "collapsed": false
   },
   "outputs": [
    {
     "data": {
      "text/plain": [
       "re.compile(r'[a-z]+', re.IGNORECASE|re.UNICODE)"
      ]
     },
     "execution_count": 4,
     "metadata": {},
     "output_type": "execute_result"
    }
   ],
   "source": [
    "pattern_en = re.compile('[a-z]+', re.IGNORECASE); pattern_en"
   ]
  },
  {
   "cell_type": "markdown",
   "metadata": {},
   "source": [
    "### re.search() : 문자열 전체를 검색하여 정규식과 매치되는지 조사"
   ]
  },
  {
   "cell_type": "code",
   "execution_count": 5,
   "metadata": {
    "collapsed": false
   },
   "outputs": [
    {
     "name": "stdout",
     "output_type": "stream",
     "text": [
      "과 백두산\n"
     ]
    }
   ],
   "source": [
    "re_search = re.search('..백두산', text)\n",
    "# Print the search results\n",
    "if re_search:\n",
    "    print(re_search.group())"
   ]
  },
  {
   "cell_type": "markdown",
   "metadata": {},
   "source": [
    "### re.match() : 문자열의 처음부터 정규식과 매치되는지 조사\n",
    "- group() : 매치된 문자열을 리턴\n",
    "- start() : 매치된 문자열의 시작 위치를 리턴\n",
    "- end() : 매치된 문자열의 끝 위치를 리턴\n",
    "- span() : 매치된 문자열의 (시작, 끝)에 해당하는 튜플을 리턴"
   ]
  },
  {
   "cell_type": "code",
   "execution_count": 6,
   "metadata": {
    "collapsed": false
   },
   "outputs": [
    {
     "name": "stdout",
     "output_type": "stream",
     "text": [
      "No matches\n"
     ]
    }
   ],
   "source": [
    "re_match = re.match('백두산', text)\n",
    "# If true, print all the matches\n",
    "if re_match:\n",
    "    print(re_match.group())\n",
    "else:\n",
    "    print('No matches')"
   ]
  },
  {
   "cell_type": "markdown",
   "metadata": {},
   "source": [
    "### re.split() : 첫번째 파라메터 값을 기준으로 문자열을 분리"
   ]
  },
  {
   "cell_type": "code",
   "execution_count": 7,
   "metadata": {
    "collapsed": false
   },
   "outputs": [
    {
     "data": {
      "text/plain": [
       "['동해물과 백두산이 마르고 닳도록', ' 하느님이 보우하사 우리나라 만세.']"
      ]
     },
     "execution_count": 7,
     "metadata": {},
     "output_type": "execute_result"
    }
   ],
   "source": [
    "re_split = re.split(',', text); re_split"
   ]
  },
  {
   "cell_type": "markdown",
   "metadata": {},
   "source": [
    "### re.findall() : 문자열이 정규식과 매칭되어 리스트로 반환"
   ]
  },
  {
   "cell_type": "code",
   "execution_count": 8,
   "metadata": {
    "collapsed": false
   },
   "outputs": [
    {
     "data": {
      "text/plain": [
       "['life', 'is', 'too', 'short']"
      ]
     },
     "execution_count": 8,
     "metadata": {},
     "output_type": "execute_result"
    }
   ],
   "source": [
    "re_findall = pattern_en.findall(\"life is too short\"); re_findall"
   ]
  },
  {
   "cell_type": "markdown",
   "metadata": {},
   "source": [
    "### re.sub() : 문자열에 속해있는 특정문자를 다른 문자로 변환"
   ]
  },
  {
   "cell_type": "code",
   "execution_count": 9,
   "metadata": {
    "collapsed": false
   },
   "outputs": [
    {
     "data": {
      "text/plain": [
       "'동해물과 한라산이 마르고 닳도록, 하느님이 보우하사 우리나라 만세.'"
      ]
     },
     "execution_count": 9,
     "metadata": {},
     "output_type": "execute_result"
    }
   ],
   "source": [
    "re_sub = re.sub('백두산', '한라산', text, 1); re_sub"
   ]
  }
 ],
 "metadata": {
  "kernelspec": {
   "display_name": "Python [Root]",
   "language": "python",
   "name": "Python [Root]"
  },
  "language_info": {
   "codemirror_mode": {
    "name": "ipython",
    "version": 3
   },
   "file_extension": ".py",
   "mimetype": "text/x-python",
   "name": "python",
   "nbconvert_exporter": "python",
   "pygments_lexer": "ipython3",
   "version": "3.5.2"
  }
 },
 "nbformat": 4,
 "nbformat_minor": 0
}
