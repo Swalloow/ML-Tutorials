{
 "cells": [
  {
   "cell_type": "markdown",
   "metadata": {},
   "source": [
    "## 서울시 공공 체육시설별 정보 데이터 분석하기"
   ]
  },
  {
   "cell_type": "code",
   "execution_count": 1,
   "metadata": {
    "collapsed": true
   },
   "outputs": [],
   "source": [
    "import numpy as np\n",
    "import pandas as pd"
   ]
  },
  {
   "cell_type": "code",
   "execution_count": 2,
   "metadata": {
    "collapsed": false
   },
   "outputs": [
    {
     "data": {
      "text/plain": [
       "시설명                  object\n",
       "일련번호                  int64\n",
       "시설키                  object\n",
       "종목시설명                object\n",
       "종목시설키                object\n",
       "종목명                  object\n",
       "종목키                  object\n",
       "위치                   object\n",
       "면적(㎡)                object\n",
       "규격                   object\n",
       "연면적(㎡)               object\n",
       "문의전화                 object\n",
       "수용인원(정원)             object\n",
       "이용대상                 object\n",
       "이용기간                 object\n",
       "이용시간                 object\n",
       "이용료(원)               object\n",
       "용도                   object\n",
       "비고                   object\n",
       "대관링크주소               object\n",
       "이미지파일                object\n",
       "선별방법(선착순-1,추첨순-2)    object\n",
       "유의사항                 object\n",
       "이용단위                 object\n",
       "dtype: object"
      ]
     },
     "execution_count": 2,
     "metadata": {},
     "output_type": "execute_result"
    }
   ],
   "source": [
    "df = pd.read_excel('../Dataset/서울시 공공 체육시설별 정보.xlsx')\n",
    "df.dtypes"
   ]
  },
  {
   "cell_type": "code",
   "execution_count": 3,
   "metadata": {
    "collapsed": false
   },
   "outputs": [
    {
     "data": {
      "text/html": [
       "<div>\n",
       "<table border=\"1\" class=\"dataframe\">\n",
       "  <thead>\n",
       "    <tr style=\"text-align: right;\">\n",
       "      <th></th>\n",
       "      <th>시설명</th>\n",
       "      <th>시설키</th>\n",
       "      <th>종목시설명</th>\n",
       "      <th>종목명</th>\n",
       "      <th>종목키</th>\n",
       "      <th>문의전화</th>\n",
       "      <th>이용시간</th>\n",
       "      <th>이용료(원)</th>\n",
       "    </tr>\n",
       "  </thead>\n",
       "  <tbody>\n",
       "    <tr>\n",
       "      <th>0</th>\n",
       "      <td>오류남초등학교</td>\n",
       "      <td>GR10106PUSM</td>\n",
       "      <td>운동장</td>\n",
       "      <td>축구</td>\n",
       "      <td>SO</td>\n",
       "      <td>02-2681-8466~8</td>\n",
       "      <td>NaN</td>\n",
       "      <td>NaN</td>\n",
       "    </tr>\n",
       "    <tr>\n",
       "      <th>1</th>\n",
       "      <td>가곡초등학교</td>\n",
       "      <td>GS10107PUSM</td>\n",
       "      <td>체육관</td>\n",
       "      <td>학교체육</td>\n",
       "      <td>SG</td>\n",
       "      <td>02-2661-7117</td>\n",
       "      <td>월~금 07:30~10:30              토,일 16:00~19:30</td>\n",
       "      <td>월 85만원</td>\n",
       "    </tr>\n",
       "    <tr>\n",
       "      <th>2</th>\n",
       "      <td>가곡초등학교</td>\n",
       "      <td>GS10107PUSM</td>\n",
       "      <td>운동장</td>\n",
       "      <td>축구</td>\n",
       "      <td>SO</td>\n",
       "      <td>NaN</td>\n",
       "      <td>NaN</td>\n",
       "      <td>NaN</td>\n",
       "    </tr>\n",
       "    <tr>\n",
       "      <th>3</th>\n",
       "      <td>가양초/경서중학교</td>\n",
       "      <td>GS10108PUSM</td>\n",
       "      <td>체육관</td>\n",
       "      <td>학교체육</td>\n",
       "      <td>SG</td>\n",
       "      <td>02-2668-0303</td>\n",
       "      <td>NaN</td>\n",
       "      <td>NaN</td>\n",
       "    </tr>\n",
       "    <tr>\n",
       "      <th>4</th>\n",
       "      <td>가양초/경서중학교</td>\n",
       "      <td>GS10108PUSM</td>\n",
       "      <td>수영장</td>\n",
       "      <td>수영</td>\n",
       "      <td>SW</td>\n",
       "      <td>NaN</td>\n",
       "      <td>NaN</td>\n",
       "      <td>NaN</td>\n",
       "    </tr>\n",
       "  </tbody>\n",
       "</table>\n",
       "</div>"
      ],
      "text/plain": [
       "         시설명          시설키 종목시설명   종목명 종목키            문의전화  \\\n",
       "0    오류남초등학교  GR10106PUSM   운동장    축구  SO  02-2681-8466~8   \n",
       "1     가곡초등학교  GS10107PUSM   체육관  학교체육  SG    02-2661-7117   \n",
       "2     가곡초등학교  GS10107PUSM   운동장    축구  SO             NaN   \n",
       "3  가양초/경서중학교  GS10108PUSM   체육관  학교체육  SG    02-2668-0303   \n",
       "4  가양초/경서중학교  GS10108PUSM   수영장    수영  SW             NaN   \n",
       "\n",
       "                                           이용시간  이용료(원)  \n",
       "0                                           NaN     NaN  \n",
       "1  월~금 07:30~10:30              토,일 16:00~19:30  월 85만원  \n",
       "2                                           NaN     NaN  \n",
       "3                                           NaN     NaN  \n",
       "4                                           NaN     NaN  "
      ]
     },
     "execution_count": 3,
     "metadata": {},
     "output_type": "execute_result"
    }
   ],
   "source": [
    "df = df.drop(['일련번호', '종목시설키', '위치', '면적(㎡)', '규격', '연면적(㎡)', '수용인원(정원)', '이용대상', '이용기간', '용도', '비고', '대관링크주소', '이미지파일', '선별방법(선착순-1,추첨순-2)', '유의사항', '이용단위'], axis=1)\n",
    "df.head()"
   ]
  },
  {
   "cell_type": "markdown",
   "metadata": {},
   "source": [
    "## 서울시 공공 체육시설에서 제공하는 종목 통계"
   ]
  },
  {
   "cell_type": "code",
   "execution_count": 4,
   "metadata": {
    "collapsed": true
   },
   "outputs": [],
   "source": [
    "from collections import Counter"
   ]
  },
  {
   "cell_type": "code",
   "execution_count": 5,
   "metadata": {
    "collapsed": false
   },
   "outputs": [
    {
     "name": "stdout",
     "output_type": "stream",
     "text": [
      "[('헬스', 197), ('수영', 120), ('축구', 100), ('댄스', 76), ('학교체육', 74), ('농구', 72), ('체조', 70), ('에어로빅', 58), ('배드민턴', 50), ('테니스', 49), ('요가', 45), ('탁구', 40), ('골프', 40), ('유아체능단(분기별)', 39), ('인라인', 24), ('게이트볼', 24), ('당구포켓볼', 19), ('족구', 19), ('배구', 17), ('풋살', 16)]\n"
     ]
    }
   ],
   "source": [
    "games = df['종목명'].tolist()\n",
    "games = Counter(games).most_common(20)\n",
    "print(games)"
   ]
  },
  {
   "cell_type": "code",
   "execution_count": 6,
   "metadata": {
    "collapsed": true
   },
   "outputs": [],
   "source": [
    "%matplotlib inline\n",
    "import matplotlib.pyplot as plt\n",
    "from matplotlib import font_manager, rc"
   ]
  },
  {
   "cell_type": "code",
   "execution_count": 7,
   "metadata": {
    "collapsed": true
   },
   "outputs": [],
   "source": [
    "x = [each[0] for each in games]\n",
    "y = [each[1] for each in games]\n",
    "indexes = np.arange(len(games))"
   ]
  },
  {
   "cell_type": "code",
   "execution_count": 8,
   "metadata": {
    "collapsed": false,
    "scrolled": true
   },
   "outputs": [],
   "source": [
    "font_name = font_manager.FontProperties(fname=\"c:/Windows/Fonts/malgun.ttf\").get_name()\n",
    "rc('font', family=font_name)"
   ]
  },
  {
   "cell_type": "code",
   "execution_count": 9,
   "metadata": {
    "collapsed": false
   },
   "outputs": [
    {
     "data": {
      "image/png": "[encoded data removed]",
      "text/plain": [
       "<matplotlib.figure.Figure at 0x1e7ec6b0940>"
      ]
     },
     "metadata": {},
     "output_type": "display_data"
    }
   ],
   "source": [
    "plt.xlabel('Game names')\n",
    "plt.ylabel('Count')\n",
    "plt.title('Seoul Facility Games Top 20')\n",
    "plt.xticks(indexes, x)\n",
    "plt.bar(indexes, y, align='center', color='#5487C0')\n",
    "plt.gcf().autofmt_xdate()\n",
    "plt.show()"
   ]
  },
  {
   "cell_type": "markdown",
   "metadata": {},
   "source": [
    "## 서울시 공공 헬스장 이용료 통계"
   ]
  },
  {
   "cell_type": "code",
   "execution_count": 10,
   "metadata": {
    "collapsed": false
   },
   "outputs": [],
   "source": [
    "health = df[df['종목명']=='헬스']"
   ]
  },
  {
   "cell_type": "code",
   "execution_count": 11,
   "metadata": {
    "collapsed": false
   },
   "outputs": [
    {
     "data": {
      "text/html": [
       "<div>\n",
       "<table border=\"1\" class=\"dataframe\">\n",
       "  <thead>\n",
       "    <tr style=\"text-align: right;\">\n",
       "      <th></th>\n",
       "      <th>시설명</th>\n",
       "      <th>종목시설명</th>\n",
       "      <th>종목명</th>\n",
       "      <th>이용시간</th>\n",
       "      <th>이용료(원)</th>\n",
       "    </tr>\n",
       "  </thead>\n",
       "  <tbody>\n",
       "    <tr>\n",
       "      <th>130</th>\n",
       "      <td>도봉구청부설체력단련실</td>\n",
       "      <td>실내체육관</td>\n",
       "      <td>헬스</td>\n",
       "      <td>09:00~18:00</td>\n",
       "      <td>1회(4시간) 사용기준 : 88,000원 (하절기, 동절기 냉난방비 별도 : 사용료...</td>\n",
       "    </tr>\n",
       "    <tr>\n",
       "      <th>138</th>\n",
       "      <td>보라매공원</td>\n",
       "      <td>다목적운동장</td>\n",
       "      <td>헬스</td>\n",
       "      <td>NaN</td>\n",
       "      <td>25,000원</td>\n",
       "    </tr>\n",
       "    <tr>\n",
       "      <th>343</th>\n",
       "      <td>화곡청소년수련관</td>\n",
       "      <td>체육활동장</td>\n",
       "      <td>헬스</td>\n",
       "      <td>09:00~21:00</td>\n",
       "      <td>20000</td>\n",
       "    </tr>\n",
       "    <tr>\n",
       "      <th>364</th>\n",
       "      <td>마포청소년수련관</td>\n",
       "      <td>종합체육관</td>\n",
       "      <td>헬스</td>\n",
       "      <td>평일대관불가, 주말 09:00~17:00</td>\n",
       "      <td>주말:400,000원</td>\n",
       "    </tr>\n",
       "    <tr>\n",
       "      <th>550</th>\n",
       "      <td>창동종합사회복지관</td>\n",
       "      <td>헬스장(데이케어센터)</td>\n",
       "      <td>헬스</td>\n",
       "      <td>매주 월~금 09:00-22:00</td>\n",
       "      <td>3시간 이상 ~ 6시간 미만 1등급 24,960 개인부담 15%</td>\n",
       "    </tr>\n",
       "    <tr>\n",
       "      <th>628</th>\n",
       "      <td>동대문종합사회복지관</td>\n",
       "      <td>헬스장</td>\n",
       "      <td>헬스</td>\n",
       "      <td>월~금 06:00~22:00</td>\n",
       "      <td>무료~45000</td>\n",
       "    </tr>\n",
       "    <tr>\n",
       "      <th>641</th>\n",
       "      <td>유락종합사회복지관</td>\n",
       "      <td>대강당</td>\n",
       "      <td>헬스</td>\n",
       "      <td>NaN</td>\n",
       "      <td>1회 1시간-4만원 (한시간 추가당 4만원 추가)</td>\n",
       "    </tr>\n",
       "    <tr>\n",
       "      <th>642</th>\n",
       "      <td>유락종합사회복지관</td>\n",
       "      <td>소체육실</td>\n",
       "      <td>헬스</td>\n",
       "      <td>NaN</td>\n",
       "      <td>1회 1시간-5만원 (한시간 추가당 3만원 추가)</td>\n",
       "    </tr>\n",
       "    <tr>\n",
       "      <th>684</th>\n",
       "      <td>홍은종합사회복지관</td>\n",
       "      <td>강당</td>\n",
       "      <td>헬스</td>\n",
       "      <td>NaN</td>\n",
       "      <td>대강당- 1시간 : 50,000원 (냉난방 가동 시 시간 당 30,000원),   ...</td>\n",
       "    </tr>\n",
       "    <tr>\n",
       "      <th>722</th>\n",
       "      <td>보라매청소년수련관</td>\n",
       "      <td>공연장(다이나믹홀)</td>\n",
       "      <td>헬스</td>\n",
       "      <td>09:00 - 21:00</td>\n",
       "      <td>2000,000원(*별도대여장비-냉,난방30,000원,무대조명20,000원,빔프로젝...</td>\n",
       "    </tr>\n",
       "    <tr>\n",
       "      <th>753</th>\n",
       "      <td>금천청소년수련관</td>\n",
       "      <td>체육관</td>\n",
       "      <td>헬스</td>\n",
       "      <td>09:00 - 21:00 (월~금) / 09:00~ 18:00 (토)</td>\n",
       "      <td>100,000원(시간당 추가:50,000원)</td>\n",
       "    </tr>\n",
       "    <tr>\n",
       "      <th>946</th>\n",
       "      <td>서대문문화체육회관</td>\n",
       "      <td>헬스장</td>\n",
       "      <td>헬스</td>\n",
       "      <td>NaN</td>\n",
       "      <td>성인</td>\n",
       "    </tr>\n",
       "  </tbody>\n",
       "</table>\n",
       "</div>"
      ],
      "text/plain": [
       "             시설명        종목시설명 종목명                                    이용시간  \\\n",
       "130  도봉구청부설체력단련실        실내체육관  헬스                             09:00~18:00   \n",
       "138        보라매공원       다목적운동장  헬스                                     NaN   \n",
       "343     화곡청소년수련관        체육활동장  헬스                             09:00~21:00   \n",
       "364     마포청소년수련관        종합체육관  헬스                  평일대관불가, 주말 09:00~17:00   \n",
       "550    창동종합사회복지관  헬스장(데이케어센터)  헬스                      매주 월~금 09:00-22:00   \n",
       "628   동대문종합사회복지관          헬스장  헬스                         월~금 06:00~22:00   \n",
       "641    유락종합사회복지관          대강당  헬스                                     NaN   \n",
       "642    유락종합사회복지관         소체육실  헬스                                     NaN   \n",
       "684    홍은종합사회복지관           강당  헬스                                     NaN   \n",
       "722    보라매청소년수련관   공연장(다이나믹홀)  헬스                           09:00 - 21:00   \n",
       "753     금천청소년수련관          체육관  헬스  09:00 - 21:00 (월~금) / 09:00~ 18:00 (토)   \n",
       "946    서대문문화체육회관          헬스장  헬스                                     NaN   \n",
       "\n",
       "                                                이용료(원)  \n",
       "130  1회(4시간) 사용기준 : 88,000원 (하절기, 동절기 냉난방비 별도 : 사용료...  \n",
       "138                                            25,000원  \n",
       "343                                              20000  \n",
       "364                                        주말:400,000원  \n",
       "550                3시간 이상 ~ 6시간 미만 1등급 24,960 개인부담 15%  \n",
       "628                                           무료~45000  \n",
       "641                        1회 1시간-4만원 (한시간 추가당 4만원 추가)  \n",
       "642                        1회 1시간-5만원 (한시간 추가당 3만원 추가)  \n",
       "684  대강당- 1시간 : 50,000원 (냉난방 가동 시 시간 당 30,000원),   ...  \n",
       "722  2000,000원(*별도대여장비-냉,난방30,000원,무대조명20,000원,빔프로젝...  \n",
       "753                           100,000원(시간당 추가:50,000원)  \n",
       "946                                                성인   "
      ]
     },
     "execution_count": 11,
     "metadata": {},
     "output_type": "execute_result"
    }
   ],
   "source": [
    "health = health.drop(['문의전화', '종목키', '시설키'], axis=1)\n",
    "health.dropna(subset=['이용료(원)'])"
   ]
  },
  {
   "cell_type": "markdown",
   "metadata": {},
   "source": [
    "## DataFrame을 Table 형태로 가공하기\n",
    "Facility Table과 Game Table은 1:N의 관계를 가짐"
   ]
  },
  {
   "cell_type": "code",
   "execution_count": 30,
   "metadata": {
    "collapsed": false
   },
   "outputs": [
    {
     "data": {
      "text/html": [
       "<div>\n",
       "<table border=\"1\" class=\"dataframe\">\n",
       "  <thead>\n",
       "    <tr style=\"text-align: right;\">\n",
       "      <th></th>\n",
       "      <th>fname</th>\n",
       "      <th>fid</th>\n",
       "    </tr>\n",
       "  </thead>\n",
       "  <tbody>\n",
       "    <tr>\n",
       "      <th>0</th>\n",
       "      <td>오류남초등학교</td>\n",
       "      <td>GR10106PUSM</td>\n",
       "    </tr>\n",
       "    <tr>\n",
       "      <th>1</th>\n",
       "      <td>가곡초등학교</td>\n",
       "      <td>GS10107PUSM</td>\n",
       "    </tr>\n",
       "    <tr>\n",
       "      <th>3</th>\n",
       "      <td>가양초/경서중학교</td>\n",
       "      <td>GS10108PUSM</td>\n",
       "    </tr>\n",
       "    <tr>\n",
       "      <th>6</th>\n",
       "      <td>치현초등학교</td>\n",
       "      <td>GS10109PUSM</td>\n",
       "    </tr>\n",
       "    <tr>\n",
       "      <th>8</th>\n",
       "      <td>봉래초등학교</td>\n",
       "      <td>JG10110PUSM</td>\n",
       "    </tr>\n",
       "  </tbody>\n",
       "</table>\n",
       "</div>"
      ],
      "text/plain": [
       "       fname          fid\n",
       "0    오류남초등학교  GR10106PUSM\n",
       "1     가곡초등학교  GS10107PUSM\n",
       "3  가양초/경서중학교  GS10108PUSM\n",
       "6     치현초등학교  GS10109PUSM\n",
       "8     봉래초등학교  JG10110PUSM"
      ]
     },
     "execution_count": 30,
     "metadata": {},
     "output_type": "execute_result"
    }
   ],
   "source": [
    "facility = df.drop(['문의전화', '종목시설명', '종목명', '종목키', '이용시간', '이용료(원)'], axis=1)\n",
    "facility = facility.rename(index=str, columns={\"시설명\": \"fname\", \"시설키\": \"fid\"})\n",
    "facility = facility.drop_duplicates(subset=['fid'])\n",
    "facility.head()"
   ]
  },
  {
   "cell_type": "code",
   "execution_count": 50,
   "metadata": {
    "collapsed": false
   },
   "outputs": [
    {
     "data": {
      "text/html": [
       "<div>\n",
       "<table border=\"1\" class=\"dataframe\">\n",
       "  <thead>\n",
       "    <tr style=\"text-align: right;\">\n",
       "      <th></th>\n",
       "      <th>fid</th>\n",
       "      <th>gfname</th>\n",
       "      <th>gname</th>\n",
       "      <th>call</th>\n",
       "    </tr>\n",
       "  </thead>\n",
       "  <tbody>\n",
       "    <tr>\n",
       "      <th>0</th>\n",
       "      <td>GR10106PUSM</td>\n",
       "      <td>운동장</td>\n",
       "      <td>축구</td>\n",
       "      <td>02-2681-8466~8</td>\n",
       "    </tr>\n",
       "    <tr>\n",
       "      <th>1</th>\n",
       "      <td>GS10107PUSM</td>\n",
       "      <td>체육관</td>\n",
       "      <td>학교체육</td>\n",
       "      <td>02-2661-7117</td>\n",
       "    </tr>\n",
       "    <tr>\n",
       "      <th>2</th>\n",
       "      <td>GS10107PUSM</td>\n",
       "      <td>운동장</td>\n",
       "      <td>축구</td>\n",
       "      <td>NaN</td>\n",
       "    </tr>\n",
       "    <tr>\n",
       "      <th>3</th>\n",
       "      <td>GS10108PUSM</td>\n",
       "      <td>체육관</td>\n",
       "      <td>학교체육</td>\n",
       "      <td>02-2668-0303</td>\n",
       "    </tr>\n",
       "    <tr>\n",
       "      <th>4</th>\n",
       "      <td>GS10108PUSM</td>\n",
       "      <td>수영장</td>\n",
       "      <td>수영</td>\n",
       "      <td>NaN</td>\n",
       "    </tr>\n",
       "  </tbody>\n",
       "</table>\n",
       "</div>"
      ],
      "text/plain": [
       "           fid gfname gname            call\n",
       "0  GR10106PUSM    운동장    축구  02-2681-8466~8\n",
       "1  GS10107PUSM    체육관  학교체육    02-2661-7117\n",
       "2  GS10107PUSM    운동장    축구             NaN\n",
       "3  GS10108PUSM    체육관  학교체육    02-2668-0303\n",
       "4  GS10108PUSM    수영장    수영             NaN"
      ]
     },
     "execution_count": 50,
     "metadata": {},
     "output_type": "execute_result"
    }
   ],
   "source": [
    "game = df.drop(['시설명', '종목키', '이용시간', '이용료(원)'], axis=1)\n",
    "game = game.rename(index=str, columns={\"시설키\": \"fid\", \"종목시설명\": \"gfname\", \"종목명\": \"gname\",\n",
    "                                       \"문의전화\": \"call\"})\n",
    "game.head()"
   ]
  },
  {
   "cell_type": "markdown",
   "metadata": {},
   "source": [
    "## DataFrame을 MySQL DB에 저장하기\n",
    "추후에 sqlalchemy engine 을 사용하는 것으로 수정 필요, mysql-python(MySQLdb) 추가 설치"
   ]
  },
  {
   "cell_type": "code",
   "execution_count": 39,
   "metadata": {
    "collapsed": true
   },
   "outputs": [],
   "source": [
    "import pymysql"
   ]
  },
  {
   "cell_type": "code",
   "execution_count": 37,
   "metadata": {
    "collapsed": false
   },
   "outputs": [],
   "source": [
    "conn = pymysql.connect(host='localhost', user='root', password='kdpark81', db='opendata', charset='utf8')"
   ]
  },
  {
   "cell_type": "code",
   "execution_count": 38,
   "metadata": {
    "collapsed": false,
    "scrolled": false
   },
   "outputs": [
    {
     "name": "stderr",
     "output_type": "stream",
     "text": [
      "C:\\Users\\Junyoung\\Anaconda3\\lib\\site-packages\\pandas\\core\\generic.py:1165: FutureWarning: The 'mysql' flavor with DBAPI connection is deprecated and will be removed in future versions. MySQL will be further supported with SQLAlchemy connectables.\n",
      "  chunksize=chunksize, dtype=dtype)\n"
     ]
    }
   ],
   "source": [
    "facility.to_sql('facility', conn, flavor='mysql', if_exists='replace', chunksize=1000)"
   ]
  },
  {
   "cell_type": "code",
   "execution_count": 52,
   "metadata": {
    "collapsed": false,
    "scrolled": false
   },
   "outputs": [
    {
     "name": "stderr",
     "output_type": "stream",
     "text": [
      "C:\\Users\\Junyoung\\Anaconda3\\lib\\site-packages\\pandas\\core\\generic.py:1165: FutureWarning: The 'mysql' flavor with DBAPI connection is deprecated and will be removed in future versions. MySQL will be further supported with SQLAlchemy connectables.\n",
      "  chunksize=chunksize, dtype=dtype)\n"
     ]
    }
   ],
   "source": [
    "game.to_sql('game', conn, flavor='mysql', if_exists='replace', chunksize=1000)"
   ]
  }
 ],
 "metadata": {
  "kernelspec": {
   "display_name": "Python [Root]",
   "language": "python",
   "name": "Python [Root]"
  },
  "language_info": {
   "codemirror_mode": {
    "name": "ipython",
    "version": 3
   },
   "file_extension": ".py",
   "mimetype": "text/x-python",
   "name": "python",
   "nbconvert_exporter": "python",
   "pygments_lexer": "ipython3",
   "version": "3.5.2"
  }
 },
 "nbformat": 4,
 "nbformat_minor": 0
}
