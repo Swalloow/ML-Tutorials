{
 "cells": [
  {
   "cell_type": "markdown",
   "metadata": {},
   "source": [
    "# Racing Baseline Script"
   ]
  },
  {
   "cell_type": "code",
   "execution_count": 1,
   "metadata": {
    "collapsed": false
   },
   "outputs": [],
   "source": [
    "import numpy as np\n",
    "import pandas as pd"
   ]
  },
  {
   "cell_type": "markdown",
   "metadata": {},
   "source": [
    "# Load Data"
   ]
  },
  {
   "cell_type": "code",
   "execution_count": 2,
   "metadata": {
    "collapsed": false,
    "scrolled": false
   },
   "outputs": [
    {
     "data": {
      "text/html": [
       "<div>\n",
       "<table border=\"1\" class=\"dataframe\">\n",
       "  <thead>\n",
       "    <tr style=\"text-align: right;\">\n",
       "      <th></th>\n",
       "      <th>rcDate</th>\n",
       "      <th>meet</th>\n",
       "      <th>rcNo</th>\n",
       "      <th>ord</th>\n",
       "      <th>rcTime</th>\n",
       "      <th>age</th>\n",
       "      <th>chulNo</th>\n",
       "      <th>corner_txt</th>\n",
       "      <th>differ</th>\n",
       "      <th>hrName</th>\n",
       "      <th>jkName</th>\n",
       "      <th>owName</th>\n",
       "      <th>plc</th>\n",
       "      <th>prdCtyNm</th>\n",
       "      <th>sex</th>\n",
       "      <th>trName</th>\n",
       "      <th>wgBudam</th>\n",
       "      <th>wgHr</th>\n",
       "      <th>win</th>\n",
       "    </tr>\n",
       "  </thead>\n",
       "  <tbody>\n",
       "    <tr>\n",
       "      <th>0</th>\n",
       "      <td>2000-01-30</td>\n",
       "      <td>서울</td>\n",
       "      <td>1</td>\n",
       "      <td>3.0</td>\n",
       "      <td>01:20:01</td>\n",
       "      <td>4</td>\n",
       "      <td>1</td>\n",
       "      <td>-  -  - 10 - 9 -</td>\n",
       "      <td>4</td>\n",
       "      <td>웨스턴타이틀</td>\n",
       "      <td>함완식</td>\n",
       "      <td>이근우</td>\n",
       "      <td>1.1</td>\n",
       "      <td>호</td>\n",
       "      <td>암</td>\n",
       "      <td>김문갑</td>\n",
       "      <td>54.0</td>\n",
       "      <td>461.0</td>\n",
       "      <td>1.6</td>\n",
       "    </tr>\n",
       "    <tr>\n",
       "      <th>1</th>\n",
       "      <td>2000-01-30</td>\n",
       "      <td>서울</td>\n",
       "      <td>1</td>\n",
       "      <td>11.0</td>\n",
       "      <td>01:22:00</td>\n",
       "      <td>4</td>\n",
       "      <td>2</td>\n",
       "      <td>-  -  - 7 - 7 -</td>\n",
       "      <td>2</td>\n",
       "      <td>두루미</td>\n",
       "      <td>박수홍</td>\n",
       "      <td>범양해운</td>\n",
       "      <td>31.5</td>\n",
       "      <td>한</td>\n",
       "      <td>암</td>\n",
       "      <td>이왕언</td>\n",
       "      <td>53.0</td>\n",
       "      <td>428.0</td>\n",
       "      <td>610.6</td>\n",
       "    </tr>\n",
       "    <tr>\n",
       "      <th>2</th>\n",
       "      <td>2000-01-30</td>\n",
       "      <td>서울</td>\n",
       "      <td>1</td>\n",
       "      <td>12.0</td>\n",
       "      <td>01:22:01</td>\n",
       "      <td>5</td>\n",
       "      <td>3</td>\n",
       "      <td>-  -  - 12 - 11 -</td>\n",
       "      <td>2½</td>\n",
       "      <td>서천</td>\n",
       "      <td>박동랑</td>\n",
       "      <td>어울림네트웍스</td>\n",
       "      <td>5.8</td>\n",
       "      <td>뉴</td>\n",
       "      <td>암</td>\n",
       "      <td>김문갑</td>\n",
       "      <td>52.0</td>\n",
       "      <td>391.0</td>\n",
       "      <td>52.1</td>\n",
       "    </tr>\n",
       "  </tbody>\n",
       "</table>\n",
       "</div>"
      ],
      "text/plain": [
       "       rcDate meet  rcNo   ord    rcTime  age  chulNo           corner_txt  \\\n",
       "0  2000-01-30   서울     1   3.0  01:20:01    4       1    -  -  - 10 - 9 -    \n",
       "1  2000-01-30   서울     1  11.0  01:22:00    4       2     -  -  - 7 - 7 -    \n",
       "2  2000-01-30   서울     1  12.0  01:22:01    5       3   -  -  - 12 - 11 -    \n",
       "\n",
       "  differ  hrName jkName   owName   plc prdCtyNm sex trName  wgBudam   wgHr  \\\n",
       "0      4  웨스턴타이틀    함완식      이근우   1.1        호   암    김문갑     54.0  461.0   \n",
       "1      2     두루미    박수홍     범양해운  31.5        한   암    이왕언     53.0  428.0   \n",
       "2     2½      서천    박동랑  어울림네트웍스   5.8        뉴   암    김문갑     52.0  391.0   \n",
       "\n",
       "     win  \n",
       "0    1.6  \n",
       "1  610.6  \n",
       "2   52.1  "
      ]
     },
     "execution_count": 2,
     "metadata": {},
     "output_type": "execute_result"
    }
   ],
   "source": [
    "df = pd.read_csv(\"../Dataset/hr_race.csv\")\n",
    "df = df.drop(['Unnamed: 0', 'id'], axis=1)\n",
    "df.head(3)"
   ]
  },
  {
   "cell_type": "code",
   "execution_count": 3,
   "metadata": {
    "collapsed": false,
    "scrolled": false
   },
   "outputs": [
    {
     "name": "stdout",
     "output_type": "stream",
     "text": [
      "<class 'pandas.core.frame.DataFrame'>\n",
      "RangeIndex: 466783 entries, 0 to 466782\n",
      "Data columns (total 19 columns):\n",
      "rcDate        466783 non-null object\n",
      "meet          466783 non-null object\n",
      "rcNo          466783 non-null int64\n",
      "ord           453232 non-null float64\n",
      "rcTime        454858 non-null object\n",
      "age           466783 non-null int64\n",
      "chulNo        466783 non-null int64\n",
      "corner_txt    466783 non-null object\n",
      "differ        418181 non-null object\n",
      "hrName        466783 non-null object\n",
      "jkName        466783 non-null object\n",
      "owName        466783 non-null object\n",
      "plc           461067 non-null float64\n",
      "prdCtyNm      466783 non-null object\n",
      "sex           466783 non-null object\n",
      "trName        466783 non-null object\n",
      "wgBudam       466783 non-null float64\n",
      "wgHr          466064 non-null float64\n",
      "win           461091 non-null float64\n",
      "dtypes: float64(5), int64(3), object(11)\n",
      "memory usage: 67.7+ MB\n"
     ]
    }
   ],
   "source": [
    "df.info()"
   ]
  },
  {
   "cell_type": "markdown",
   "metadata": {},
   "source": [
    "## Feature\n",
    "- rcDate : 경기가 열린 날 / 2000-01-30 부터 2017-01-06 까지\n",
    "- meet : 경기가 열린 장소 / 서울, 제주, 부경\n",
    "- rcNo : 경주시행일의 경주번호 / 1 부터 15 까지\n",
    "- ord : 출발검사 도착순위\n",
    "- rcTime : 경주시간(?)\n",
    "- age : 말의 나이 / 4 부터 27 까지\n",
    "- chulNo : 경주 출발게이트 번호 / 1 부터 16 까지\n",
    "- corner_txt : 통과지점별통과순위\n",
    "- differ : 선순위 도착마와의 도착 마신 차이 / 머리, 목, 주행중지, 출전제외 등\n",
    "- hrName : 말의이름 / 웨스턴타이틀, 두루미 등\n",
    "- jkName : 경주마 기승하는 기수명\n",
    "- owName : 경주마 소유한 마주명\n",
    "- plc : 해당마의 연승식 적중시 환급 배당률\n",
    "- prdCtyNm : 경주마 생산국가명 / 호, 한, 뉴, 미 등\n",
    "- sex : 말의성별 / 암, 거, 수\n",
    "- trName : 조교사명\n",
    "- wgBudam : 경주마의 부담중량(KG)\n",
    "- wgHr : 경주마 해당일 체중(KG)\n",
    "- win : 해당마의 단승식 적중시 환급 배당률"
   ]
  },
  {
   "cell_type": "markdown",
   "metadata": {},
   "source": [
    "# Make dataset\n",
    "- Training set: 80%\n",
    "- Test set: 20%\n",
    "- isWin: boolean"
   ]
  },
  {
   "cell_type": "code",
   "execution_count": 4,
   "metadata": {
    "collapsed": true
   },
   "outputs": [],
   "source": [
    "from datetime import datetime\n",
    "from datetime import timedelta\n",
    "import re"
   ]
  },
  {
   "cell_type": "code",
   "execution_count": 5,
   "metadata": {
    "collapsed": false
   },
   "outputs": [],
   "source": [
    "df['rcDate'] = pd.to_datetime(df['rcDate'])\n",
    "df['year'] = pd.to_datetime(df.rcDate).dt.year\n",
    "df['rcTime'] = pd.to_datetime(df['rcTime']).apply(lambda d: datetime.time(d))"
   ]
  },
  {
   "cell_type": "code",
   "execution_count": 6,
   "metadata": {
    "collapsed": false
   },
   "outputs": [],
   "source": [
    "df['ord'] = np.nan_to_num(df['ord']).astype(int)\n",
    "df['isWin'] = df['ord']==(1 or 2)\n",
    "df = df.drop(df['ord']==0)"
   ]
  },
  {
   "cell_type": "code",
   "execution_count": 7,
   "metadata": {
    "collapsed": true
   },
   "outputs": [],
   "source": [
    "train = df[df['year'] < 2014]\n",
    "test = df[df['year'] >= 2014]"
   ]
  },
  {
   "cell_type": "markdown",
   "metadata": {},
   "source": [
    "# Preprocessing\n",
    "- 경기전까지 알 수 있는 신뢰할 수 있는 정보를 사용\n",
    "- 경주마 정보, 기수 정보, 조교사 정보 등"
   ]
  },
  {
   "cell_type": "markdown",
   "metadata": {},
   "source": [
    "## 1. One-Hot Encoding\n",
    "- prdCtyNm : 경주마 생산국가명 / 호, 한 등 17개국\n",
    "- sex : 말의성별 / 암, 거, 수"
   ]
  },
  {
   "cell_type": "code",
   "execution_count": 8,
   "metadata": {
    "collapsed": false
   },
   "outputs": [],
   "source": [
    "cols_to_transform = ['prdCtyNm', 'sex']\n",
    "train = pd.get_dummies(train, columns=cols_to_transform)"
   ]
  },
  {
   "cell_type": "code",
   "execution_count": 9,
   "metadata": {
    "collapsed": false
   },
   "outputs": [
    {
     "data": {
      "text/html": [
       "<div>\n",
       "<table border=\"1\" class=\"dataframe\">\n",
       "  <thead>\n",
       "    <tr style=\"text-align: right;\">\n",
       "      <th></th>\n",
       "      <th>rcDate</th>\n",
       "      <th>meet</th>\n",
       "      <th>rcNo</th>\n",
       "      <th>ord</th>\n",
       "      <th>rcTime</th>\n",
       "      <th>age</th>\n",
       "      <th>chulNo</th>\n",
       "      <th>corner_txt</th>\n",
       "      <th>differ</th>\n",
       "      <th>hrName</th>\n",
       "      <th>...</th>\n",
       "      <th>prdCtyNm_일</th>\n",
       "      <th>prdCtyNm_중</th>\n",
       "      <th>prdCtyNm_캐</th>\n",
       "      <th>prdCtyNm_프</th>\n",
       "      <th>prdCtyNm_한</th>\n",
       "      <th>prdCtyNm_헨</th>\n",
       "      <th>prdCtyNm_호</th>\n",
       "      <th>sex_거</th>\n",
       "      <th>sex_수</th>\n",
       "      <th>sex_암</th>\n",
       "    </tr>\n",
       "  </thead>\n",
       "  <tbody>\n",
       "    <tr>\n",
       "      <th>2</th>\n",
       "      <td>2000-01-30</td>\n",
       "      <td>서울</td>\n",
       "      <td>1</td>\n",
       "      <td>12</td>\n",
       "      <td>01:22:01</td>\n",
       "      <td>5</td>\n",
       "      <td>3</td>\n",
       "      <td>-  -  - 12 - 11 -</td>\n",
       "      <td>2½</td>\n",
       "      <td>서천</td>\n",
       "      <td>...</td>\n",
       "      <td>0</td>\n",
       "      <td>0</td>\n",
       "      <td>0</td>\n",
       "      <td>0</td>\n",
       "      <td>0</td>\n",
       "      <td>0</td>\n",
       "      <td>0</td>\n",
       "      <td>0</td>\n",
       "      <td>0</td>\n",
       "      <td>1</td>\n",
       "    </tr>\n",
       "    <tr>\n",
       "      <th>3</th>\n",
       "      <td>2000-01-30</td>\n",
       "      <td>서울</td>\n",
       "      <td>1</td>\n",
       "      <td>8</td>\n",
       "      <td>01:21:01</td>\n",
       "      <td>4</td>\n",
       "      <td>4</td>\n",
       "      <td>-  -  - 8 - 8 -</td>\n",
       "      <td>½</td>\n",
       "      <td>런패스터</td>\n",
       "      <td>...</td>\n",
       "      <td>0</td>\n",
       "      <td>0</td>\n",
       "      <td>0</td>\n",
       "      <td>0</td>\n",
       "      <td>0</td>\n",
       "      <td>0</td>\n",
       "      <td>0</td>\n",
       "      <td>0</td>\n",
       "      <td>0</td>\n",
       "      <td>1</td>\n",
       "    </tr>\n",
       "    <tr>\n",
       "      <th>4</th>\n",
       "      <td>2000-01-30</td>\n",
       "      <td>서울</td>\n",
       "      <td>1</td>\n",
       "      <td>10</td>\n",
       "      <td>01:22:00</td>\n",
       "      <td>4</td>\n",
       "      <td>5</td>\n",
       "      <td>-  -  - 11 - 12 -</td>\n",
       "      <td>¾</td>\n",
       "      <td>한가람</td>\n",
       "      <td>...</td>\n",
       "      <td>0</td>\n",
       "      <td>0</td>\n",
       "      <td>0</td>\n",
       "      <td>0</td>\n",
       "      <td>0</td>\n",
       "      <td>0</td>\n",
       "      <td>0</td>\n",
       "      <td>0</td>\n",
       "      <td>0</td>\n",
       "      <td>1</td>\n",
       "    </tr>\n",
       "    <tr>\n",
       "      <th>5</th>\n",
       "      <td>2000-01-30</td>\n",
       "      <td>서울</td>\n",
       "      <td>1</td>\n",
       "      <td>7</td>\n",
       "      <td>01:21:01</td>\n",
       "      <td>6</td>\n",
       "      <td>6</td>\n",
       "      <td>-  -  - 6 - 6 -</td>\n",
       "      <td>2</td>\n",
       "      <td>캐터리나블루</td>\n",
       "      <td>...</td>\n",
       "      <td>0</td>\n",
       "      <td>0</td>\n",
       "      <td>0</td>\n",
       "      <td>0</td>\n",
       "      <td>0</td>\n",
       "      <td>0</td>\n",
       "      <td>0</td>\n",
       "      <td>0</td>\n",
       "      <td>0</td>\n",
       "      <td>1</td>\n",
       "    </tr>\n",
       "    <tr>\n",
       "      <th>6</th>\n",
       "      <td>2000-01-30</td>\n",
       "      <td>서울</td>\n",
       "      <td>1</td>\n",
       "      <td>13</td>\n",
       "      <td>01:24:00</td>\n",
       "      <td>3</td>\n",
       "      <td>7</td>\n",
       "      <td>-  -  - 13 - 13 -</td>\n",
       "      <td>6</td>\n",
       "      <td>데이빗슨</td>\n",
       "      <td>...</td>\n",
       "      <td>0</td>\n",
       "      <td>0</td>\n",
       "      <td>0</td>\n",
       "      <td>0</td>\n",
       "      <td>0</td>\n",
       "      <td>0</td>\n",
       "      <td>0</td>\n",
       "      <td>1</td>\n",
       "      <td>0</td>\n",
       "      <td>0</td>\n",
       "    </tr>\n",
       "  </tbody>\n",
       "</table>\n",
       "<p>5 rows × 36 columns</p>\n",
       "</div>"
      ],
      "text/plain": [
       "      rcDate meet  rcNo  ord    rcTime  age  chulNo           corner_txt  \\\n",
       "2 2000-01-30   서울     1   12  01:22:01    5       3   -  -  - 12 - 11 -    \n",
       "3 2000-01-30   서울     1    8  01:21:01    4       4     -  -  - 8 - 8 -    \n",
       "4 2000-01-30   서울     1   10  01:22:00    4       5   -  -  - 11 - 12 -    \n",
       "5 2000-01-30   서울     1    7  01:21:01    6       6     -  -  - 6 - 6 -    \n",
       "6 2000-01-30   서울     1   13  01:24:00    3       7   -  -  - 13 - 13 -    \n",
       "\n",
       "  differ  hrName  ...   prdCtyNm_일 prdCtyNm_중  prdCtyNm_캐 prdCtyNm_프  \\\n",
       "2     2½      서천  ...            0          0           0          0   \n",
       "3      ½    런패스터  ...            0          0           0          0   \n",
       "4      ¾     한가람  ...            0          0           0          0   \n",
       "5      2  캐터리나블루  ...            0          0           0          0   \n",
       "6      6    데이빗슨  ...            0          0           0          0   \n",
       "\n",
       "   prdCtyNm_한  prdCtyNm_헨  prdCtyNm_호  sex_거 sex_수  sex_암  \n",
       "2           0           0           0      0     0      1  \n",
       "3           0           0           0      0     0      1  \n",
       "4           0           0           0      0     0      1  \n",
       "5           0           0           0      0     0      1  \n",
       "6           0           0           0      1     0      0  \n",
       "\n",
       "[5 rows x 36 columns]"
      ]
     },
     "execution_count": 9,
     "metadata": {},
     "output_type": "execute_result"
    }
   ],
   "source": [
    "train.head(5)"
   ]
  },
  {
   "cell_type": "markdown",
   "metadata": {},
   "source": [
    "## 2. Vectorization\n",
    "- hrName : 말의이름 / 웨스턴타이틀, 두루미 등\n",
    "- jkName : 경주마 기승하는 기수명\n",
    "- owName : 경주마 소유한 마주명\n",
    "- trName : 조교사명"
   ]
  },
  {
   "cell_type": "code",
   "execution_count": 10,
   "metadata": {
    "collapsed": true
   },
   "outputs": [],
   "source": [
    "from sklearn.feature_extraction.text import CountVectorizer\n",
    "from sklearn.feature_extraction.text import TfidfVectorizer"
   ]
  },
  {
   "cell_type": "code",
   "execution_count": 26,
   "metadata": {
    "collapsed": true
   },
   "outputs": [],
   "source": [
    "vectorizer = TfidfVectorizer(lowercase=False)"
   ]
  },
  {
   "cell_type": "code",
   "execution_count": null,
   "metadata": {
    "collapsed": true
   },
   "outputs": [],
   "source": [
    "train['jkVec'] = vectorizer.fit_transform(train['jkName'])\n",
    "train['owName'] = vectorizer.fit_transform(train['owName'])\n",
    "train['trName'] = vectorizer.fit_transform(train['trName'])"
   ]
  },
  {
   "cell_type": "code",
   "execution_count": 28,
   "metadata": {
    "collapsed": false
   },
   "outputs": [],
   "source": [
    "train['hrVec'] = vectorizer.fit_transform(train['hrName'])"
   ]
  },
  {
   "cell_type": "markdown",
   "metadata": {},
   "source": [
    "## Make dataset\n",
    "- Training set : 80%\n",
    "- Test set : 20%"
   ]
  },
  {
   "cell_type": "code",
   "execution_count": 22,
   "metadata": {
    "collapsed": false
   },
   "outputs": [
    {
     "data": {
      "text/plain": [
       "(351177,)"
      ]
     },
     "execution_count": 22,
     "metadata": {},
     "output_type": "execute_result"
    }
   ],
   "source": [
    "train.jkVec.shape"
   ]
  },
  {
   "cell_type": "markdown",
   "metadata": {},
   "source": [
    "# Modeling"
   ]
  },
  {
   "cell_type": "code",
   "execution_count": null,
   "metadata": {
    "collapsed": false
   },
   "outputs": [],
   "source": [
    "predictors = [\"Sex\", \"Age\", \"Embarked\"]\n",
    "x = titanic[predictors]\n",
    "y = titanic[\"Survived\"]"
   ]
  },
  {
   "cell_type": "markdown",
   "metadata": {},
   "source": [
    "## DecisionTree"
   ]
  },
  {
   "cell_type": "code",
   "execution_count": null,
   "metadata": {
    "collapsed": true
   },
   "outputs": [],
   "source": [
    "from sklearn.tree import DecisionTreeClassifier"
   ]
  },
  {
   "cell_type": "code",
   "execution_count": null,
   "metadata": {
    "collapsed": false
   },
   "outputs": [],
   "source": [
    "decision = DecisionTreeClassifier().fit(x,y)\n",
    "print(decision)"
   ]
  },
  {
   "cell_type": "markdown",
   "metadata": {},
   "source": [
    "## RandomForest"
   ]
  },
  {
   "cell_type": "code",
   "execution_count": null,
   "metadata": {
    "collapsed": true
   },
   "outputs": [],
   "source": [
    "from sklearn.ensemble import RandomForestClassifier"
   ]
  },
  {
   "cell_type": "code",
   "execution_count": null,
   "metadata": {
    "collapsed": false,
    "scrolled": true
   },
   "outputs": [],
   "source": [
    "forst = RandomForestClassifier(n_jobs=-1).fit(x,y)\n",
    "print(forst)"
   ]
  },
  {
   "cell_type": "markdown",
   "metadata": {},
   "source": [
    "## Cross Validation"
   ]
  },
  {
   "cell_type": "code",
   "execution_count": null,
   "metadata": {
    "collapsed": false
   },
   "outputs": [],
   "source": [
    "from sklearn.model_selection import cross_val_score\n",
    "from sklearn.model_selection import KFold"
   ]
  },
  {
   "cell_type": "code",
   "execution_count": null,
   "metadata": {
    "collapsed": false,
    "scrolled": true
   },
   "outputs": [],
   "source": [
    "decision_score = cross_val_score(decision, x, y, cv=5).mean()\n",
    "forst_score = cross_val_score(forst, x, y, cv=5).mean()\n",
    "\n",
    "print(\"DecisionTree = {0:.6f}\".format(decision_score))\n",
    "print(\"RandomForest = {0:.6f}\".format(forst_score))"
   ]
  }
 ],
 "metadata": {
  "kernelspec": {
   "display_name": "Python 3",
   "language": "python",
   "name": "python3"
  },
  "language_info": {
   "codemirror_mode": {
    "name": "ipython",
    "version": 3
   },
   "file_extension": ".py",
   "mimetype": "text/x-python",
   "name": "python",
   "nbconvert_exporter": "python",
   "pygments_lexer": "ipython3",
   "version": "3.5.1"
  }
 },
 "nbformat": 4,
 "nbformat_minor": 2
}
