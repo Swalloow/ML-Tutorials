{
 "cells": [
  {
   "cell_type": "markdown",
   "metadata": {},
   "source": [
    "# Racing Data Analysis"
   ]
  },
  {
   "cell_type": "code",
   "execution_count": 36,
   "metadata": {
    "collapsed": true
   },
   "outputs": [],
   "source": [
    "import numpy as np\n",
    "import pandas as pd"
   ]
  },
  {
   "cell_type": "code",
   "execution_count": 37,
   "metadata": {
    "collapsed": false,
    "scrolled": true
   },
   "outputs": [
    {
     "data": {
      "text/html": [
       "<div>\n",
       "<table border=\"1\" class=\"dataframe\">\n",
       "  <thead>\n",
       "    <tr style=\"text-align: right;\">\n",
       "      <th></th>\n",
       "      <th>rcDate</th>\n",
       "      <th>meet</th>\n",
       "      <th>rcNo</th>\n",
       "      <th>ord</th>\n",
       "      <th>rcTime</th>\n",
       "      <th>age</th>\n",
       "      <th>chulNo</th>\n",
       "      <th>corner_txt</th>\n",
       "      <th>differ</th>\n",
       "      <th>hrName</th>\n",
       "      <th>...</th>\n",
       "      <th>owName</th>\n",
       "      <th>plc</th>\n",
       "      <th>prdCtyNm</th>\n",
       "      <th>sex</th>\n",
       "      <th>trName</th>\n",
       "      <th>wgBudam</th>\n",
       "      <th>wgHr</th>\n",
       "      <th>win</th>\n",
       "      <th>year</th>\n",
       "      <th>isWin</th>\n",
       "    </tr>\n",
       "  </thead>\n",
       "  <tbody>\n",
       "    <tr>\n",
       "      <th>13</th>\n",
       "      <td>2014-01-26</td>\n",
       "      <td>서울</td>\n",
       "      <td>2</td>\n",
       "      <td>1</td>\n",
       "      <td>01:17:00</td>\n",
       "      <td>3</td>\n",
       "      <td>11</td>\n",
       "      <td>1 -  -  - 1 - 1 - 1</td>\n",
       "      <td>NaN</td>\n",
       "      <td>블레스오션</td>\n",
       "      <td>...</td>\n",
       "      <td>조명식</td>\n",
       "      <td>1</td>\n",
       "      <td>한</td>\n",
       "      <td>수</td>\n",
       "      <td>안병기</td>\n",
       "      <td>55.0</td>\n",
       "      <td>509.0</td>\n",
       "      <td>5</td>\n",
       "      <td>2014</td>\n",
       "      <td>True</td>\n",
       "    </tr>\n",
       "    <tr>\n",
       "      <th>38</th>\n",
       "      <td>2014-01-26</td>\n",
       "      <td>서울</td>\n",
       "      <td>3</td>\n",
       "      <td>1</td>\n",
       "      <td>01:23:00</td>\n",
       "      <td>3</td>\n",
       "      <td>9</td>\n",
       "      <td>10 -  -  - 10 - 9 - 4</td>\n",
       "      <td>NaN</td>\n",
       "      <td>레요컴</td>\n",
       "      <td>...</td>\n",
       "      <td>김휘남</td>\n",
       "      <td>2</td>\n",
       "      <td>한</td>\n",
       "      <td>암</td>\n",
       "      <td>김호</td>\n",
       "      <td>53.0</td>\n",
       "      <td>465.0</td>\n",
       "      <td>6</td>\n",
       "      <td>2014</td>\n",
       "      <td>True</td>\n",
       "    </tr>\n",
       "    <tr>\n",
       "      <th>46</th>\n",
       "      <td>2014-01-26</td>\n",
       "      <td>서울</td>\n",
       "      <td>4</td>\n",
       "      <td>1</td>\n",
       "      <td>01:16:00</td>\n",
       "      <td>4</td>\n",
       "      <td>3</td>\n",
       "      <td>7 -  -  - 7 - 7 - 2</td>\n",
       "      <td>NaN</td>\n",
       "      <td>대대장</td>\n",
       "      <td>...</td>\n",
       "      <td>강홍수</td>\n",
       "      <td>1</td>\n",
       "      <td>한</td>\n",
       "      <td>수</td>\n",
       "      <td>양희진</td>\n",
       "      <td>56.0</td>\n",
       "      <td>464.0</td>\n",
       "      <td>3</td>\n",
       "      <td>2014</td>\n",
       "      <td>True</td>\n",
       "    </tr>\n",
       "  </tbody>\n",
       "</table>\n",
       "<p>3 rows × 21 columns</p>\n",
       "</div>"
      ],
      "text/plain": [
       "        rcDate meet  rcNo  ord    rcTime  age  chulNo             corner_txt  \\\n",
       "13  2014-01-26   서울     2    1  01:17:00    3      11    1 -  -  - 1 - 1 - 1   \n",
       "38  2014-01-26   서울     3    1  01:23:00    3       9  10 -  -  - 10 - 9 - 4   \n",
       "46  2014-01-26   서울     4    1  01:16:00    4       3    7 -  -  - 7 - 7 - 2   \n",
       "\n",
       "   differ hrName  ...   owName plc  prdCtyNm sex trName wgBudam   wgHr  win  \\\n",
       "13    NaN  블레스오션  ...      조명식   1         한   수    안병기    55.0  509.0    5   \n",
       "38    NaN    레요컴  ...      김휘남   2         한   암     김호    53.0  465.0    6   \n",
       "46    NaN    대대장  ...      강홍수   1         한   수    양희진    56.0  464.0    3   \n",
       "\n",
       "    year  isWin  \n",
       "13  2014   True  \n",
       "38  2014   True  \n",
       "46  2014   True  \n",
       "\n",
       "[3 rows x 21 columns]"
      ]
     },
     "execution_count": 37,
     "metadata": {},
     "output_type": "execute_result"
    }
   ],
   "source": [
    "df = pd.read_csv(\"../Dataset/hr_test.csv\")\n",
    "df = df.drop(['Unnamed: 0'], axis=1)\n",
    "df = df[df['ord'] == 1]\n",
    "df.head(3)"
   ]
  },
  {
   "cell_type": "markdown",
   "metadata": {},
   "source": [
    "## 1. Feature Age"
   ]
  },
  {
   "cell_type": "code",
   "execution_count": 40,
   "metadata": {
    "collapsed": false
   },
   "outputs": [],
   "source": [
    "import matplotlib.pyplot as plt\n",
    "import seaborn"
   ]
  },
  {
   "cell_type": "code",
   "execution_count": 41,
   "metadata": {
    "collapsed": false
   },
   "outputs": [],
   "source": [
    "y = df['age'].values\n",
    "x = range(len(y))\n",
    "width = 1/1.5"
   ]
  },
  {
   "cell_type": "code",
   "execution_count": 43,
   "metadata": {
    "collapsed": false
   },
   "outputs": [
    {
     "data": {
      "image/png": "[encoded data removed]",
      "text/plain": [
       "<matplotlib.figure.Figure at 0x136f5c5c0>"
      ]
     },
     "metadata": {},
     "output_type": "display_data"
    }
   ],
   "source": [
    "plt.bar(x, y, width, color=\"#6799FF\")\n",
    "plt.show()"
   ]
  },
  {
   "cell_type": "markdown",
   "metadata": {},
   "source": [
    "## 2. Feature Weights"
   ]
  },
  {
   "cell_type": "code",
   "execution_count": 61,
   "metadata": {
    "collapsed": false
   },
   "outputs": [],
   "source": [
    "fig = plt.figure()\n",
    "ax1 = fig.add_subplot(3, 1, 1)\n",
    "ax2 = fig.add_subplot(3, 1, 2)\n",
    "ax3 = fig.add_subplot(3, 1, 3)"
   ]
  },
  {
   "cell_type": "code",
   "execution_count": 62,
   "metadata": {
    "collapsed": true
   },
   "outputs": [],
   "source": [
    "soul = df[df['meet'] == \"서울\"]\n",
    "bukg = df[df['meet'] == \"부경\"]\n",
    "jeju = df[df['meet'] == \"제주\"]"
   ]
  },
  {
   "cell_type": "code",
   "execution_count": 65,
   "metadata": {
    "collapsed": false
   },
   "outputs": [
    {
     "ename": "TypeError",
     "evalue": "'Text' object is not callable",
     "output_type": "error",
     "traceback": [
      "\u001b[0;31m---------------------------------------------------------------------------\u001b[0m",
      "\u001b[0;31mTypeError\u001b[0m                                 Traceback (most recent call last)",
      "\u001b[0;32m<ipython-input-65-c6eeb4a02563>\u001b[0m in \u001b[0;36m<module>\u001b[0;34m()\u001b[0m\n\u001b[1;32m      2\u001b[0m \u001b[0mx\u001b[0m \u001b[0;34m=\u001b[0m \u001b[0mrange\u001b[0m\u001b[0;34m(\u001b[0m\u001b[0mlen\u001b[0m\u001b[0;34m(\u001b[0m\u001b[0my\u001b[0m\u001b[0;34m)\u001b[0m\u001b[0;34m)\u001b[0m\u001b[0;34m\u001b[0m\u001b[0m\n\u001b[1;32m      3\u001b[0m \u001b[0mwidth\u001b[0m \u001b[0;34m=\u001b[0m \u001b[0;36m1\u001b[0m\u001b[0;34m/\u001b[0m\u001b[0;36m1.5\u001b[0m\u001b[0;34m\u001b[0m\u001b[0m\n\u001b[0;32m----> 4\u001b[0;31m \u001b[0max1\u001b[0m\u001b[0;34m.\u001b[0m\u001b[0mtitle\u001b[0m\u001b[0;34m(\u001b[0m\u001b[0;34m\"Seoul\"\u001b[0m\u001b[0;34m)\u001b[0m\u001b[0;34m\u001b[0m\u001b[0m\n\u001b[0m\u001b[1;32m      5\u001b[0m \u001b[0max1\u001b[0m\u001b[0;34m.\u001b[0m\u001b[0mbar\u001b[0m\u001b[0;34m(\u001b[0m\u001b[0mx\u001b[0m\u001b[0;34m,\u001b[0m \u001b[0my\u001b[0m\u001b[0;34m,\u001b[0m \u001b[0mwidth\u001b[0m\u001b[0;34m,\u001b[0m \u001b[0mcolor\u001b[0m\u001b[0;34m=\u001b[0m\u001b[0;34m\"#6799FF\"\u001b[0m\u001b[0;34m)\u001b[0m\u001b[0;34m\u001b[0m\u001b[0m\n\u001b[1;32m      6\u001b[0m \u001b[0;34m\u001b[0m\u001b[0m\n",
      "\u001b[0;31mTypeError\u001b[0m: 'Text' object is not callable"
     ]
    }
   ],
   "source": [
    "y = soul['wgHr'].values\n",
    "x = range(len(y))\n",
    "width = 1/1.5\n",
    "ax1.title(\"Seoul\")\n",
    "ax1.bar(x, y, width, color=\"#6799FF\")\n",
    "\n",
    "y = bukg['wgHr'].values\n",
    "x = range(len(y))\n",
    "width = 1/1.5\n",
    "ax2.bar(x, y, width, color=\"#6799FF\")\n",
    "ax2.title(\"Bukyoung\")\n",
    "\n",
    "y = jeju['wgHr'].values\n",
    "x = range(len(y))\n",
    "width = 1/1.5\n",
    "ax3.bar(x, y, width, color=\"#6799FF\")\n",
    "ax3.title(\"Jeju\")"
   ]
  },
  {
   "cell_type": "code",
   "execution_count": null,
   "metadata": {
    "collapsed": false
   },
   "outputs": [],
   "source": [
    "plt.subplots_adjust(top=0.92, bottom=0.08, left=0.10, right=0.95, hspace=0.25, wspace=0.35)\n",
    "plt.show()"
   ]
  }
 ],
 "metadata": {
  "kernelspec": {
   "display_name": "Python 3",
   "language": "python",
   "name": "python3"
  },
  "language_info": {
   "codemirror_mode": {
    "name": "ipython",
    "version": 3
   },
   "file_extension": ".py",
   "mimetype": "text/x-python",
   "name": "python",
   "nbconvert_exporter": "python",
   "pygments_lexer": "ipython3",
   "version": "3.5.1"
  }
 },
 "nbformat": 4,
 "nbformat_minor": 2
}
