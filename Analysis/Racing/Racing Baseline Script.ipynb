{
 "cells": [
  {
   "cell_type": "markdown",
   "metadata": {},
   "source": [
    "# Racing Baseline Script"
   ]
  },
  {
   "cell_type": "code",
   "execution_count": 1,
   "metadata": {
    "collapsed": false
   },
   "outputs": [],
   "source": [
    "import numpy as np\n",
    "import pandas as pd"
   ]
  },
  {
   "cell_type": "markdown",
   "metadata": {},
   "source": [
    "# Load Data"
   ]
  },
  {
   "cell_type": "code",
   "execution_count": 2,
   "metadata": {
    "collapsed": false,
    "scrolled": false
   },
   "outputs": [
    {
     "data": {
      "text/html": [
       "<div>\n",
       "<table border=\"1\" class=\"dataframe\">\n",
       "  <thead>\n",
       "    <tr style=\"text-align: right;\">\n",
       "      <th></th>\n",
       "      <th>rcDate</th>\n",
       "      <th>meet</th>\n",
       "      <th>rcNo</th>\n",
       "      <th>ord</th>\n",
       "      <th>rcTime</th>\n",
       "      <th>age</th>\n",
       "      <th>chulNo</th>\n",
       "      <th>corner_txt</th>\n",
       "      <th>differ</th>\n",
       "      <th>hrName</th>\n",
       "      <th>jkName</th>\n",
       "      <th>owName</th>\n",
       "      <th>plc</th>\n",
       "      <th>prdCtyNm</th>\n",
       "      <th>sex</th>\n",
       "      <th>trName</th>\n",
       "      <th>wgBudam</th>\n",
       "      <th>wgHr</th>\n",
       "      <th>win</th>\n",
       "    </tr>\n",
       "  </thead>\n",
       "  <tbody>\n",
       "    <tr>\n",
       "      <th>0</th>\n",
       "      <td>2000-01-30</td>\n",
       "      <td>서울</td>\n",
       "      <td>1</td>\n",
       "      <td>3.0</td>\n",
       "      <td>01:20:01</td>\n",
       "      <td>4</td>\n",
       "      <td>1</td>\n",
       "      <td>-  -  - 10 - 9 -</td>\n",
       "      <td>4</td>\n",
       "      <td>웨스턴타이틀</td>\n",
       "      <td>함완식</td>\n",
       "      <td>이근우</td>\n",
       "      <td>1.1</td>\n",
       "      <td>호</td>\n",
       "      <td>암</td>\n",
       "      <td>김문갑</td>\n",
       "      <td>54.0</td>\n",
       "      <td>461.0</td>\n",
       "      <td>1.6</td>\n",
       "    </tr>\n",
       "    <tr>\n",
       "      <th>1</th>\n",
       "      <td>2000-01-30</td>\n",
       "      <td>서울</td>\n",
       "      <td>1</td>\n",
       "      <td>11.0</td>\n",
       "      <td>01:22:00</td>\n",
       "      <td>4</td>\n",
       "      <td>2</td>\n",
       "      <td>-  -  - 7 - 7 -</td>\n",
       "      <td>2</td>\n",
       "      <td>두루미</td>\n",
       "      <td>박수홍</td>\n",
       "      <td>범양해운</td>\n",
       "      <td>31.5</td>\n",
       "      <td>한</td>\n",
       "      <td>암</td>\n",
       "      <td>이왕언</td>\n",
       "      <td>53.0</td>\n",
       "      <td>428.0</td>\n",
       "      <td>610.6</td>\n",
       "    </tr>\n",
       "    <tr>\n",
       "      <th>2</th>\n",
       "      <td>2000-01-30</td>\n",
       "      <td>서울</td>\n",
       "      <td>1</td>\n",
       "      <td>12.0</td>\n",
       "      <td>01:22:01</td>\n",
       "      <td>5</td>\n",
       "      <td>3</td>\n",
       "      <td>-  -  - 12 - 11 -</td>\n",
       "      <td>2½</td>\n",
       "      <td>서천</td>\n",
       "      <td>박동랑</td>\n",
       "      <td>어울림네트웍스</td>\n",
       "      <td>5.8</td>\n",
       "      <td>뉴</td>\n",
       "      <td>암</td>\n",
       "      <td>김문갑</td>\n",
       "      <td>52.0</td>\n",
       "      <td>391.0</td>\n",
       "      <td>52.1</td>\n",
       "    </tr>\n",
       "  </tbody>\n",
       "</table>\n",
       "</div>"
      ],
      "text/plain": [
       "       rcDate meet  rcNo   ord    rcTime  age  chulNo           corner_txt  \\\n",
       "0  2000-01-30   서울     1   3.0  01:20:01    4       1    -  -  - 10 - 9 -    \n",
       "1  2000-01-30   서울     1  11.0  01:22:00    4       2     -  -  - 7 - 7 -    \n",
       "2  2000-01-30   서울     1  12.0  01:22:01    5       3   -  -  - 12 - 11 -    \n",
       "\n",
       "  differ  hrName jkName   owName   plc prdCtyNm sex trName  wgBudam   wgHr  \\\n",
       "0      4  웨스턴타이틀    함완식      이근우   1.1        호   암    김문갑     54.0  461.0   \n",
       "1      2     두루미    박수홍     범양해운  31.5        한   암    이왕언     53.0  428.0   \n",
       "2     2½      서천    박동랑  어울림네트웍스   5.8        뉴   암    김문갑     52.0  391.0   \n",
       "\n",
       "     win  \n",
       "0    1.6  \n",
       "1  610.6  \n",
       "2   52.1  "
      ]
     },
     "execution_count": 2,
     "metadata": {},
     "output_type": "execute_result"
    }
   ],
   "source": [
    "df = pd.read_csv(\"../Dataset/hr_race.csv\")\n",
    "df = df.drop(['Unnamed: 0', 'id'], axis=1)\n",
    "df.head(3)"
   ]
  },
  {
   "cell_type": "markdown",
   "metadata": {},
   "source": [
    "## Feature\n",
    "- rcDate : 경기가 열린 날 / 2000-01-30 부터 2017-01-06 까지\n",
    "- meet : 경기가 열린 장소 / 서울, 제주, 부경\n",
    "- rcNo : 경주시행일의 경주번호 / 1 부터 15 까지\n",
    "- ord : 출발검사 도착순위\n",
    "- rcTime : 경주시간(?)\n",
    "- age : 말의 나이 / 4 부터 27 까지\n",
    "- chulNo : 경주 출발게이트 번호 / 1 부터 16 까지\n",
    "- corner_txt : 통과지점별통과순위\n",
    "- differ : 선순위 도착마와의 도착 마신 차이 / 머리, 목, 주행중지, 출전제외 등\n",
    "- hrName : 말의이름 / 웨스턴타이틀, 두루미 등\n",
    "- jkName : 경주마 기승하는 기수명\n",
    "- owName : 경주마 소유한 마주명\n",
    "- plc : 해당마의 연승식 적중시 환급 배당률\n",
    "- prdCtyNm : 경주마 생산국가명 / 호, 한, 뉴, 미 등\n",
    "- sex : 말의성별 / 암, 거, 수\n",
    "- trName : 조교사명\n",
    "- wgBudam : 경주마의 부담중량(KG)\n",
    "- wgHr : 경주마 해당일 체중(KG)\n",
    "- win : 해당마의 단승식 적중시 환급 배당률"
   ]
  },
  {
   "cell_type": "markdown",
   "metadata": {},
   "source": [
    "# Make dataset\n",
    "- Training set: 80%\n",
    "- Test set: 20%\n",
    "- isWin: boolean"
   ]
  },
  {
   "cell_type": "code",
   "execution_count": 4,
   "metadata": {
    "collapsed": true
   },
   "outputs": [],
   "source": [
    "from datetime import datetime\n",
    "from datetime import timedelta\n",
    "import re"
   ]
  },
  {
   "cell_type": "code",
   "execution_count": 5,
   "metadata": {
    "collapsed": false
   },
   "outputs": [],
   "source": [
    "# Object to datetime\n",
    "df['rcDate'] = pd.to_datetime(df['rcDate'])\n",
    "df['year'] = pd.to_datetime(df.rcDate).dt.year\n",
    "df['rcTime'] = pd.to_datetime(df['rcTime']).apply(lambda d: datetime.time(d))"
   ]
  },
  {
   "cell_type": "code",
   "execution_count": 6,
   "metadata": {
    "collapsed": false
   },
   "outputs": [],
   "source": [
    "# Float to int\n",
    "df['ord'] = np.nan_to_num(df['ord']).astype(int)\n",
    "df['plc'] = np.nan_to_num(df['plc']).astype(int)\n",
    "df['win'] = np.nan_to_num(df['win']).astype(int)"
   ]
  },
  {
   "cell_type": "code",
   "execution_count": 7,
   "metadata": {
    "collapsed": false
   },
   "outputs": [],
   "source": [
    "# Predictors\n",
    "df['isWin'] = df['ord']==(1 or 2)\n",
    "df = df.drop(df['ord']==0)"
   ]
  },
  {
   "cell_type": "code",
   "execution_count": 8,
   "metadata": {
    "collapsed": true
   },
   "outputs": [],
   "source": [
    "train = df[df['year'] < 2014]\n",
    "test = df[df['year'] >= 2014]"
   ]
  },
  {
   "cell_type": "markdown",
   "metadata": {},
   "source": [
    "# Preprocessing\n",
    "- 우선, 서울, 부경, 제주 중에서 제주마만 예측 (17만개)\n",
    "- 경기전까지 알 수 있는 신뢰할 수 있는 정보를 사용\n",
    "- 경주마 정보, 기수 정보, 조교사 정보 등"
   ]
  },
  {
   "cell_type": "code",
   "execution_count": 9,
   "metadata": {
    "collapsed": false
   },
   "outputs": [
    {
     "data": {
      "text/html": [
       "<div>\n",
       "<table border=\"1\" class=\"dataframe\">\n",
       "  <thead>\n",
       "    <tr style=\"text-align: right;\">\n",
       "      <th></th>\n",
       "      <th>rcDate</th>\n",
       "      <th>meet</th>\n",
       "      <th>age</th>\n",
       "      <th>hrName</th>\n",
       "      <th>jkName</th>\n",
       "      <th>owName</th>\n",
       "      <th>plc</th>\n",
       "      <th>prdCtyNm</th>\n",
       "      <th>sex</th>\n",
       "      <th>trName</th>\n",
       "      <th>wgBudam</th>\n",
       "      <th>wgHr</th>\n",
       "      <th>win</th>\n",
       "      <th>isWin</th>\n",
       "    </tr>\n",
       "  </thead>\n",
       "  <tbody>\n",
       "    <tr>\n",
       "      <th>1072</th>\n",
       "      <td>2000-01-30</td>\n",
       "      <td>제주</td>\n",
       "      <td>3</td>\n",
       "      <td>남이장군</td>\n",
       "      <td>이재웅</td>\n",
       "      <td>강상우</td>\n",
       "      <td>32</td>\n",
       "      <td>한</td>\n",
       "      <td>수</td>\n",
       "      <td>김영래</td>\n",
       "      <td>52.0</td>\n",
       "      <td>204.0</td>\n",
       "      <td>21</td>\n",
       "      <td>False</td>\n",
       "    </tr>\n",
       "    <tr>\n",
       "      <th>1073</th>\n",
       "      <td>2000-01-30</td>\n",
       "      <td>제주</td>\n",
       "      <td>3</td>\n",
       "      <td>동부로</td>\n",
       "      <td>김기환</td>\n",
       "      <td>한성택</td>\n",
       "      <td>1</td>\n",
       "      <td>한</td>\n",
       "      <td>수</td>\n",
       "      <td>임용찬</td>\n",
       "      <td>55.0</td>\n",
       "      <td>238.0</td>\n",
       "      <td>2</td>\n",
       "      <td>False</td>\n",
       "    </tr>\n",
       "    <tr>\n",
       "      <th>1074</th>\n",
       "      <td>2000-01-30</td>\n",
       "      <td>제주</td>\n",
       "      <td>3</td>\n",
       "      <td>쓰리쎄븐</td>\n",
       "      <td>심도연</td>\n",
       "      <td>김덕인</td>\n",
       "      <td>1</td>\n",
       "      <td>한</td>\n",
       "      <td>암</td>\n",
       "      <td>박석천</td>\n",
       "      <td>54.0</td>\n",
       "      <td>216.0</td>\n",
       "      <td>2</td>\n",
       "      <td>False</td>\n",
       "    </tr>\n",
       "    <tr>\n",
       "      <th>1075</th>\n",
       "      <td>2000-01-30</td>\n",
       "      <td>제주</td>\n",
       "      <td>3</td>\n",
       "      <td>위성도시</td>\n",
       "      <td>모현진</td>\n",
       "      <td>김용해</td>\n",
       "      <td>6</td>\n",
       "      <td>한</td>\n",
       "      <td>거</td>\n",
       "      <td>김한철</td>\n",
       "      <td>52.0</td>\n",
       "      <td>226.0</td>\n",
       "      <td>12</td>\n",
       "      <td>False</td>\n",
       "    </tr>\n",
       "    <tr>\n",
       "      <th>1076</th>\n",
       "      <td>2000-01-30</td>\n",
       "      <td>제주</td>\n",
       "      <td>3</td>\n",
       "      <td>보리고개</td>\n",
       "      <td>이태용</td>\n",
       "      <td>이종철</td>\n",
       "      <td>4</td>\n",
       "      <td>한</td>\n",
       "      <td>암</td>\n",
       "      <td>양일천</td>\n",
       "      <td>54.0</td>\n",
       "      <td>226.0</td>\n",
       "      <td>14</td>\n",
       "      <td>False</td>\n",
       "    </tr>\n",
       "  </tbody>\n",
       "</table>\n",
       "</div>"
      ],
      "text/plain": [
       "         rcDate meet  age hrName jkName owName  plc prdCtyNm sex trName  \\\n",
       "1072 2000-01-30   제주    3   남이장군    이재웅    강상우   32        한   수    김영래   \n",
       "1073 2000-01-30   제주    3    동부로    김기환    한성택    1        한   수    임용찬   \n",
       "1074 2000-01-30   제주    3   쓰리쎄븐    심도연    김덕인    1        한   암    박석천   \n",
       "1075 2000-01-30   제주    3   위성도시    모현진    김용해    6        한   거    김한철   \n",
       "1076 2000-01-30   제주    3   보리고개    이태용    이종철    4        한   암    양일천   \n",
       "\n",
       "      wgBudam   wgHr  win  isWin  \n",
       "1072     52.0  204.0   21  False  \n",
       "1073     55.0  238.0    2  False  \n",
       "1074     54.0  216.0    2  False  \n",
       "1075     52.0  226.0   12  False  \n",
       "1076     54.0  226.0   14  False  "
      ]
     },
     "execution_count": 9,
     "metadata": {},
     "output_type": "execute_result"
    }
   ],
   "source": [
    "cols_to_drop = ['chulNo', 'ord', 'rcNo', 'rcTime', 'differ', 'corner_txt', 'year']\n",
    "train = train.drop(cols_to_drop, axis=1)\n",
    "train = train[train['meet']=='제주']\n",
    "train.head()"
   ]
  },
  {
   "cell_type": "markdown",
   "metadata": {},
   "source": [
    "## One-Hot Encoding\n",
    "- prdCtyNm : 경주마 생산국가명 / 호, 한 등 17개국\n",
    "- sex : 말의성별 / 암, 거, 수\n",
    "- hrName : 말의이름 / 웨스턴타이틀, 두루미 등\n",
    "- jkName : 경주마 기승하는 기수명\n",
    "- owName : 경주마 소유한 마주명\n",
    "- trName : 조교사명"
   ]
  },
  {
   "cell_type": "code",
   "execution_count": 10,
   "metadata": {
    "collapsed": false
   },
   "outputs": [
    {
     "data": {
      "text/html": [
       "<div>\n",
       "<table border=\"1\" class=\"dataframe\">\n",
       "  <thead>\n",
       "    <tr style=\"text-align: right;\">\n",
       "      <th></th>\n",
       "      <th>rcDate</th>\n",
       "      <th>meet</th>\n",
       "      <th>age</th>\n",
       "      <th>jkName</th>\n",
       "      <th>owName</th>\n",
       "      <th>plc</th>\n",
       "      <th>prdCtyNm</th>\n",
       "      <th>trName</th>\n",
       "      <th>wgBudam</th>\n",
       "      <th>wgHr</th>\n",
       "      <th>...</th>\n",
       "      <th>hrName_힘찬질주</th>\n",
       "      <th>hrName_힘찬출발</th>\n",
       "      <th>hrName_힘찬포부</th>\n",
       "      <th>hrName_힘찬하루</th>\n",
       "      <th>hrName_힘찬함성</th>\n",
       "      <th>hrName_힘찬햇살</th>\n",
       "      <th>hrName_힘찬행진</th>\n",
       "      <th>hrName_힘찬호령</th>\n",
       "      <th>hrName_힘찬활력</th>\n",
       "      <th>hrName_힘찬희망</th>\n",
       "    </tr>\n",
       "  </thead>\n",
       "  <tbody>\n",
       "    <tr>\n",
       "      <th>1072</th>\n",
       "      <td>2000-01-30</td>\n",
       "      <td>제주</td>\n",
       "      <td>3</td>\n",
       "      <td>이재웅</td>\n",
       "      <td>강상우</td>\n",
       "      <td>32</td>\n",
       "      <td>한</td>\n",
       "      <td>김영래</td>\n",
       "      <td>52.0</td>\n",
       "      <td>204.0</td>\n",
       "      <td>...</td>\n",
       "      <td>0</td>\n",
       "      <td>0</td>\n",
       "      <td>0</td>\n",
       "      <td>0</td>\n",
       "      <td>0</td>\n",
       "      <td>0</td>\n",
       "      <td>0</td>\n",
       "      <td>0</td>\n",
       "      <td>0</td>\n",
       "      <td>0</td>\n",
       "    </tr>\n",
       "    <tr>\n",
       "      <th>1073</th>\n",
       "      <td>2000-01-30</td>\n",
       "      <td>제주</td>\n",
       "      <td>3</td>\n",
       "      <td>김기환</td>\n",
       "      <td>한성택</td>\n",
       "      <td>1</td>\n",
       "      <td>한</td>\n",
       "      <td>임용찬</td>\n",
       "      <td>55.0</td>\n",
       "      <td>238.0</td>\n",
       "      <td>...</td>\n",
       "      <td>0</td>\n",
       "      <td>0</td>\n",
       "      <td>0</td>\n",
       "      <td>0</td>\n",
       "      <td>0</td>\n",
       "      <td>0</td>\n",
       "      <td>0</td>\n",
       "      <td>0</td>\n",
       "      <td>0</td>\n",
       "      <td>0</td>\n",
       "    </tr>\n",
       "    <tr>\n",
       "      <th>1074</th>\n",
       "      <td>2000-01-30</td>\n",
       "      <td>제주</td>\n",
       "      <td>3</td>\n",
       "      <td>심도연</td>\n",
       "      <td>김덕인</td>\n",
       "      <td>1</td>\n",
       "      <td>한</td>\n",
       "      <td>박석천</td>\n",
       "      <td>54.0</td>\n",
       "      <td>216.0</td>\n",
       "      <td>...</td>\n",
       "      <td>0</td>\n",
       "      <td>0</td>\n",
       "      <td>0</td>\n",
       "      <td>0</td>\n",
       "      <td>0</td>\n",
       "      <td>0</td>\n",
       "      <td>0</td>\n",
       "      <td>0</td>\n",
       "      <td>0</td>\n",
       "      <td>0</td>\n",
       "    </tr>\n",
       "  </tbody>\n",
       "</table>\n",
       "<p>3 rows × 8375 columns</p>\n",
       "</div>"
      ],
      "text/plain": [
       "         rcDate meet  age jkName owName  plc prdCtyNm trName  wgBudam   wgHr  \\\n",
       "1072 2000-01-30   제주    3    이재웅    강상우   32        한    김영래     52.0  204.0   \n",
       "1073 2000-01-30   제주    3    김기환    한성택    1        한    임용찬     55.0  238.0   \n",
       "1074 2000-01-30   제주    3    심도연    김덕인    1        한    박석천     54.0  216.0   \n",
       "\n",
       "         ...       hrName_힘찬질주 hrName_힘찬출발  hrName_힘찬포부  hrName_힘찬하루  \\\n",
       "1072     ...                 0           0            0            0   \n",
       "1073     ...                 0           0            0            0   \n",
       "1074     ...                 0           0            0            0   \n",
       "\n",
       "      hrName_힘찬함성  hrName_힘찬햇살  hrName_힘찬행진  hrName_힘찬호령  hrName_힘찬활력  \\\n",
       "1072            0            0            0            0            0   \n",
       "1073            0            0            0            0            0   \n",
       "1074            0            0            0            0            0   \n",
       "\n",
       "      hrName_힘찬희망  \n",
       "1072            0  \n",
       "1073            0  \n",
       "1074            0  \n",
       "\n",
       "[3 rows x 8375 columns]"
      ]
     },
     "execution_count": 10,
     "metadata": {},
     "output_type": "execute_result"
    }
   ],
   "source": [
    "cols_to_transform = ['sex', 'hrName']\n",
    "train = pd.get_dummies(train, columns=cols_to_transform)\n",
    "train.head(3)"
   ]
  },
  {
   "cell_type": "markdown",
   "metadata": {},
   "source": [
    "# Modeling"
   ]
  },
  {
   "cell_type": "code",
   "execution_count": 11,
   "metadata": {
    "collapsed": false
   },
   "outputs": [],
   "source": [
    "predictors = [\"plc\", \"win\"]\n",
    "train_x = train[predictors]\n",
    "train_y = train[\"isWin\"]\n",
    "test_x = test[predictors]\n",
    "test_y = test[\"isWin\"]"
   ]
  },
  {
   "cell_type": "markdown",
   "metadata": {},
   "source": [
    "## DecisionTree & RandomForest"
   ]
  },
  {
   "cell_type": "code",
   "execution_count": 12,
   "metadata": {
    "collapsed": true
   },
   "outputs": [],
   "source": [
    "from sklearn.tree import DecisionTreeClassifier\n",
    "from sklearn.ensemble import RandomForestClassifier"
   ]
  },
  {
   "cell_type": "code",
   "execution_count": 13,
   "metadata": {
    "collapsed": false
   },
   "outputs": [
    {
     "name": "stdout",
     "output_type": "stream",
     "text": [
      "RandomForestClassifier(bootstrap=True, class_weight=None, criterion='gini',\n",
      "            max_depth=None, max_features='auto', max_leaf_nodes=None,\n",
      "            min_impurity_split=1e-07, min_samples_leaf=1,\n",
      "            min_samples_split=2, min_weight_fraction_leaf=0.0,\n",
      "            n_estimators=10, n_jobs=-1, oob_score=False, random_state=None,\n",
      "            verbose=0, warm_start=False)\n"
     ]
    }
   ],
   "source": [
    "# decision = DecisionTreeClassifier().fit(train_x, train_y)\n",
    "forest = RandomForestClassifier(n_jobs=-1).fit(train_x, train_y)\n",
    "print(forest)"
   ]
  },
  {
   "cell_type": "markdown",
   "metadata": {},
   "source": [
    "## Cross Validation"
   ]
  },
  {
   "cell_type": "code",
   "execution_count": 14,
   "metadata": {
    "collapsed": false
   },
   "outputs": [],
   "source": [
    "from sklearn.model_selection import cross_val_score\n",
    "from sklearn.model_selection import KFold"
   ]
  },
  {
   "cell_type": "code",
   "execution_count": 15,
   "metadata": {
    "collapsed": false,
    "scrolled": true
   },
   "outputs": [
    {
     "name": "stdout",
     "output_type": "stream",
     "text": [
      "RandomForest = 0.905055\n"
     ]
    }
   ],
   "source": [
    "# decision_score = cross_val_score(decision, x, y, cv=5).mean()\n",
    "forst_score = cross_val_score(forest, test_x, test_y, cv=5).mean()\n",
    "\n",
    "# print(\"DecisionTree = {0:.6f}\".format(decision_score))\n",
    "print(\"RandomForest = {0:.6f}\".format(forst_score))"
   ]
  },
  {
   "cell_type": "markdown",
   "metadata": {},
   "source": [
    "# Result\n",
    "- plc, win: 0.899656\n",
    "- age, sex: 0.895907"
   ]
  }
 ],
 "metadata": {
  "kernelspec": {
   "display_name": "Python 3",
   "language": "python",
   "name": "python3"
  },
  "language_info": {
   "codemirror_mode": {
    "name": "ipython",
    "version": 3
   },
   "file_extension": ".py",
   "mimetype": "text/x-python",
   "name": "python",
   "nbconvert_exporter": "python",
   "pygments_lexer": "ipython3",
   "version": "3.6.0"
  }
 },
 "nbformat": 4,
 "nbformat_minor": 2
}
