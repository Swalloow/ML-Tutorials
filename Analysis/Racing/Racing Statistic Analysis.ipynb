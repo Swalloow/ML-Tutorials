{
 "cells": [
  {
   "cell_type": "markdown",
   "metadata": {},
   "source": [
    "# Racing Statistic Analysis\n",
    "\n",
    "### TODO\n",
    "\n",
    "- 샘플링 방식을 달리 해서 말을 구체적으로 발라낼 것\n",
    "- 가치주처럼 다크호스 말을 찾아낼 것\n",
    "- 전체가 아닌 우승마를 맞추는걸로 변경해야 한다\n",
    "- 실제 Testset에 적용하여 결과를 보자"
   ]
  },
  {
   "cell_type": "code",
   "execution_count": 1,
   "metadata": {
    "collapsed": false
   },
   "outputs": [],
   "source": [
    "import numpy as np\n",
    "import pandas as pd"
   ]
  },
  {
   "cell_type": "markdown",
   "metadata": {},
   "source": [
    "# Load Data"
   ]
  },
  {
   "cell_type": "code",
   "execution_count": 2,
   "metadata": {
    "collapsed": false,
    "scrolled": false
   },
   "outputs": [
    {
     "data": {
      "text/html": [
       "<div>\n",
       "<table border=\"1\" class=\"dataframe\">\n",
       "  <thead>\n",
       "    <tr style=\"text-align: right;\">\n",
       "      <th></th>\n",
       "      <th>rcDate</th>\n",
       "      <th>meet</th>\n",
       "      <th>rcNo</th>\n",
       "      <th>ord</th>\n",
       "      <th>rcTime</th>\n",
       "      <th>age</th>\n",
       "      <th>chulNo</th>\n",
       "      <th>corner_txt</th>\n",
       "      <th>differ</th>\n",
       "      <th>hrName</th>\n",
       "      <th>...</th>\n",
       "      <th>owName</th>\n",
       "      <th>plc</th>\n",
       "      <th>prdCtyNm</th>\n",
       "      <th>sex</th>\n",
       "      <th>trName</th>\n",
       "      <th>wgBudam</th>\n",
       "      <th>wgHr</th>\n",
       "      <th>win</th>\n",
       "      <th>year</th>\n",
       "      <th>isWin</th>\n",
       "    </tr>\n",
       "  </thead>\n",
       "  <tbody>\n",
       "    <tr>\n",
       "      <th>0</th>\n",
       "      <td>2000-01-30</td>\n",
       "      <td>서울</td>\n",
       "      <td>1</td>\n",
       "      <td>12</td>\n",
       "      <td>01:22:01</td>\n",
       "      <td>5</td>\n",
       "      <td>3</td>\n",
       "      <td>-  -  - 12 - 11 -</td>\n",
       "      <td>2½</td>\n",
       "      <td>서천</td>\n",
       "      <td>...</td>\n",
       "      <td>어울림네트웍스</td>\n",
       "      <td>5</td>\n",
       "      <td>뉴</td>\n",
       "      <td>암</td>\n",
       "      <td>김문갑</td>\n",
       "      <td>52.0</td>\n",
       "      <td>391.0</td>\n",
       "      <td>52</td>\n",
       "      <td>2000</td>\n",
       "      <td>False</td>\n",
       "    </tr>\n",
       "    <tr>\n",
       "      <th>1</th>\n",
       "      <td>2000-01-30</td>\n",
       "      <td>서울</td>\n",
       "      <td>1</td>\n",
       "      <td>8</td>\n",
       "      <td>01:21:01</td>\n",
       "      <td>4</td>\n",
       "      <td>4</td>\n",
       "      <td>-  -  - 8 - 8 -</td>\n",
       "      <td>½</td>\n",
       "      <td>런패스터</td>\n",
       "      <td>...</td>\n",
       "      <td>성환옥</td>\n",
       "      <td>2</td>\n",
       "      <td>미</td>\n",
       "      <td>암</td>\n",
       "      <td>최혜식</td>\n",
       "      <td>52.0</td>\n",
       "      <td>423.0</td>\n",
       "      <td>17</td>\n",
       "      <td>2000</td>\n",
       "      <td>False</td>\n",
       "    </tr>\n",
       "    <tr>\n",
       "      <th>2</th>\n",
       "      <td>2000-01-30</td>\n",
       "      <td>서울</td>\n",
       "      <td>1</td>\n",
       "      <td>10</td>\n",
       "      <td>01:22:00</td>\n",
       "      <td>4</td>\n",
       "      <td>5</td>\n",
       "      <td>-  -  - 11 - 12 -</td>\n",
       "      <td>¾</td>\n",
       "      <td>한가람</td>\n",
       "      <td>...</td>\n",
       "      <td>이영욱a</td>\n",
       "      <td>24</td>\n",
       "      <td>뉴</td>\n",
       "      <td>암</td>\n",
       "      <td>최영주</td>\n",
       "      <td>52.0</td>\n",
       "      <td>442.0</td>\n",
       "      <td>732</td>\n",
       "      <td>2000</td>\n",
       "      <td>False</td>\n",
       "    </tr>\n",
       "  </tbody>\n",
       "</table>\n",
       "<p>3 rows × 21 columns</p>\n",
       "</div>"
      ],
      "text/plain": [
       "       rcDate meet  rcNo  ord    rcTime  age  chulNo           corner_txt  \\\n",
       "0  2000-01-30   서울     1   12  01:22:01    5       3   -  -  - 12 - 11 -    \n",
       "1  2000-01-30   서울     1    8  01:21:01    4       4     -  -  - 8 - 8 -    \n",
       "2  2000-01-30   서울     1   10  01:22:00    4       5   -  -  - 11 - 12 -    \n",
       "\n",
       "  differ hrName  ...     owName plc  prdCtyNm sex trName wgBudam   wgHr  win  \\\n",
       "0     2½     서천  ...    어울림네트웍스   5         뉴   암    김문갑    52.0  391.0   52   \n",
       "1      ½   런패스터  ...        성환옥   2         미   암    최혜식    52.0  423.0   17   \n",
       "2      ¾    한가람  ...       이영욱a  24         뉴   암    최영주    52.0  442.0  732   \n",
       "\n",
       "   year  isWin  \n",
       "0  2000  False  \n",
       "1  2000  False  \n",
       "2  2000  False  \n",
       "\n",
       "[3 rows x 21 columns]"
      ]
     },
     "execution_count": 2,
     "metadata": {},
     "output_type": "execute_result"
    }
   ],
   "source": [
    "train = pd.read_csv(\"../Dataset/hr_train.csv\")\n",
    "test = pd.read_csv(\"../Dataset/hr_test.csv\")\n",
    "train = train.drop(['Unnamed: 0'], axis=1)\n",
    "test = test.drop(['Unnamed: 0'], axis=1)\n",
    "train.head(3)"
   ]
  },
  {
   "cell_type": "markdown",
   "metadata": {},
   "source": [
    "# Data Sampling\n",
    "- 서울, 부경마 / 제주마\n",
    "- 단승식 / 복승식"
   ]
  },
  {
   "cell_type": "code",
   "execution_count": 17,
   "metadata": {
    "collapsed": true
   },
   "outputs": [],
   "source": [
    "from datetime import datetime\n",
    "from datetime import timedelta\n",
    "import re"
   ]
  },
  {
   "cell_type": "code",
   "execution_count": 6,
   "metadata": {
    "collapsed": false
   },
   "outputs": [
    {
     "data": {
      "text/html": [
       "<div>\n",
       "<table border=\"1\" class=\"dataframe\">\n",
       "  <thead>\n",
       "    <tr style=\"text-align: right;\">\n",
       "      <th></th>\n",
       "      <th>rcDate</th>\n",
       "      <th>meet</th>\n",
       "      <th>age</th>\n",
       "      <th>hrName</th>\n",
       "      <th>jkName</th>\n",
       "      <th>owName</th>\n",
       "      <th>plc</th>\n",
       "      <th>prdCtyNm</th>\n",
       "      <th>sex</th>\n",
       "      <th>trName</th>\n",
       "      <th>wgBudam</th>\n",
       "      <th>wgHr</th>\n",
       "      <th>win</th>\n",
       "      <th>isWin</th>\n",
       "    </tr>\n",
       "  </thead>\n",
       "  <tbody>\n",
       "    <tr>\n",
       "      <th>0</th>\n",
       "      <td>2000-01-30</td>\n",
       "      <td>서울</td>\n",
       "      <td>5</td>\n",
       "      <td>서천</td>\n",
       "      <td>박동랑</td>\n",
       "      <td>어울림네트웍스</td>\n",
       "      <td>5</td>\n",
       "      <td>뉴</td>\n",
       "      <td>암</td>\n",
       "      <td>김문갑</td>\n",
       "      <td>52.0</td>\n",
       "      <td>391.0</td>\n",
       "      <td>52</td>\n",
       "      <td>False</td>\n",
       "    </tr>\n",
       "    <tr>\n",
       "      <th>1</th>\n",
       "      <td>2000-01-30</td>\n",
       "      <td>서울</td>\n",
       "      <td>4</td>\n",
       "      <td>런패스터</td>\n",
       "      <td>김동균</td>\n",
       "      <td>성환옥</td>\n",
       "      <td>2</td>\n",
       "      <td>미</td>\n",
       "      <td>암</td>\n",
       "      <td>최혜식</td>\n",
       "      <td>52.0</td>\n",
       "      <td>423.0</td>\n",
       "      <td>17</td>\n",
       "      <td>False</td>\n",
       "    </tr>\n",
       "    <tr>\n",
       "      <th>2</th>\n",
       "      <td>2000-01-30</td>\n",
       "      <td>서울</td>\n",
       "      <td>4</td>\n",
       "      <td>한가람</td>\n",
       "      <td>이정선</td>\n",
       "      <td>이영욱a</td>\n",
       "      <td>24</td>\n",
       "      <td>뉴</td>\n",
       "      <td>암</td>\n",
       "      <td>최영주</td>\n",
       "      <td>52.0</td>\n",
       "      <td>442.0</td>\n",
       "      <td>732</td>\n",
       "      <td>False</td>\n",
       "    </tr>\n",
       "    <tr>\n",
       "      <th>3</th>\n",
       "      <td>2000-01-30</td>\n",
       "      <td>서울</td>\n",
       "      <td>6</td>\n",
       "      <td>캐터리나블루</td>\n",
       "      <td>김효섭</td>\n",
       "      <td>이종덕</td>\n",
       "      <td>8</td>\n",
       "      <td>미</td>\n",
       "      <td>암</td>\n",
       "      <td>이인호</td>\n",
       "      <td>54.0</td>\n",
       "      <td>424.0</td>\n",
       "      <td>98</td>\n",
       "      <td>False</td>\n",
       "    </tr>\n",
       "    <tr>\n",
       "      <th>4</th>\n",
       "      <td>2000-01-30</td>\n",
       "      <td>서울</td>\n",
       "      <td>3</td>\n",
       "      <td>데이빗슨</td>\n",
       "      <td>한유영</td>\n",
       "      <td>한병규</td>\n",
       "      <td>4</td>\n",
       "      <td>뉴</td>\n",
       "      <td>거</td>\n",
       "      <td>한일영</td>\n",
       "      <td>55.0</td>\n",
       "      <td>487.0</td>\n",
       "      <td>57</td>\n",
       "      <td>False</td>\n",
       "    </tr>\n",
       "  </tbody>\n",
       "</table>\n",
       "</div>"
      ],
      "text/plain": [
       "       rcDate meet  age  hrName jkName   owName  plc prdCtyNm sex trName  \\\n",
       "0  2000-01-30   서울    5      서천    박동랑  어울림네트웍스    5        뉴   암    김문갑   \n",
       "1  2000-01-30   서울    4    런패스터    김동균      성환옥    2        미   암    최혜식   \n",
       "2  2000-01-30   서울    4     한가람    이정선     이영욱a   24        뉴   암    최영주   \n",
       "3  2000-01-30   서울    6  캐터리나블루    김효섭      이종덕    8        미   암    이인호   \n",
       "4  2000-01-30   서울    3    데이빗슨    한유영      한병규    4        뉴   거    한일영   \n",
       "\n",
       "   wgBudam   wgHr  win  isWin  \n",
       "0     52.0  391.0   52  False  \n",
       "1     52.0  423.0   17  False  \n",
       "2     52.0  442.0  732  False  \n",
       "3     54.0  424.0   98  False  \n",
       "4     55.0  487.0   57  False  "
      ]
     },
     "execution_count": 6,
     "metadata": {},
     "output_type": "execute_result"
    }
   ],
   "source": [
    "cols_to_drop = ['chulNo', 'ord', 'rcNo', 'rcTime', 'differ', 'corner_txt', 'year']\n",
    "train = train.drop(cols_to_drop, axis=1)\n",
    "train = train[train['meet']=='서울']\n",
    "train.head()"
   ]
  },
  {
   "cell_type": "markdown",
   "metadata": {},
   "source": [
    "## One-Hot Encoding\n",
    "- prdCtyNm : 경주마 생산국가명 / 호, 한 등 17개국\n",
    "- sex : 말의성별 / 암, 거, 수\n",
    "- hrName : 말의이름 / 웨스턴타이틀, 두루미 등\n",
    "- jkName : 경주마 기승하는 기수명\n",
    "- owName : 경주마 소유한 마주명\n",
    "- trName : 조교사명"
   ]
  },
  {
   "cell_type": "code",
   "execution_count": 10,
   "metadata": {
    "collapsed": false
   },
   "outputs": [
    {
     "data": {
      "text/html": [
       "<div>\n",
       "<table border=\"1\" class=\"dataframe\">\n",
       "  <thead>\n",
       "    <tr style=\"text-align: right;\">\n",
       "      <th></th>\n",
       "      <th>rcDate</th>\n",
       "      <th>meet</th>\n",
       "      <th>age</th>\n",
       "      <th>hrName</th>\n",
       "      <th>jkName</th>\n",
       "      <th>owName</th>\n",
       "      <th>plc</th>\n",
       "      <th>prdCtyNm</th>\n",
       "      <th>trName</th>\n",
       "      <th>wgBudam</th>\n",
       "      <th>wgHr</th>\n",
       "      <th>win</th>\n",
       "      <th>isWin</th>\n",
       "      <th>sex_거</th>\n",
       "      <th>sex_수</th>\n",
       "      <th>sex_암</th>\n",
       "    </tr>\n",
       "  </thead>\n",
       "  <tbody>\n",
       "    <tr>\n",
       "      <th>1072</th>\n",
       "      <td>2000-01-30</td>\n",
       "      <td>제주</td>\n",
       "      <td>3</td>\n",
       "      <td>남이장군</td>\n",
       "      <td>이재웅</td>\n",
       "      <td>강상우</td>\n",
       "      <td>32</td>\n",
       "      <td>한</td>\n",
       "      <td>김영래</td>\n",
       "      <td>52.0</td>\n",
       "      <td>204.0</td>\n",
       "      <td>21</td>\n",
       "      <td>False</td>\n",
       "      <td>0</td>\n",
       "      <td>1</td>\n",
       "      <td>0</td>\n",
       "    </tr>\n",
       "    <tr>\n",
       "      <th>1073</th>\n",
       "      <td>2000-01-30</td>\n",
       "      <td>제주</td>\n",
       "      <td>3</td>\n",
       "      <td>동부로</td>\n",
       "      <td>김기환</td>\n",
       "      <td>한성택</td>\n",
       "      <td>1</td>\n",
       "      <td>한</td>\n",
       "      <td>임용찬</td>\n",
       "      <td>55.0</td>\n",
       "      <td>238.0</td>\n",
       "      <td>2</td>\n",
       "      <td>False</td>\n",
       "      <td>0</td>\n",
       "      <td>1</td>\n",
       "      <td>0</td>\n",
       "    </tr>\n",
       "    <tr>\n",
       "      <th>1074</th>\n",
       "      <td>2000-01-30</td>\n",
       "      <td>제주</td>\n",
       "      <td>3</td>\n",
       "      <td>쓰리쎄븐</td>\n",
       "      <td>심도연</td>\n",
       "      <td>김덕인</td>\n",
       "      <td>1</td>\n",
       "      <td>한</td>\n",
       "      <td>박석천</td>\n",
       "      <td>54.0</td>\n",
       "      <td>216.0</td>\n",
       "      <td>2</td>\n",
       "      <td>False</td>\n",
       "      <td>0</td>\n",
       "      <td>0</td>\n",
       "      <td>1</td>\n",
       "    </tr>\n",
       "  </tbody>\n",
       "</table>\n",
       "</div>"
      ],
      "text/plain": [
       "         rcDate meet  age hrName jkName owName  plc prdCtyNm trName  wgBudam  \\\n",
       "1072 2000-01-30   제주    3   남이장군    이재웅    강상우   32        한    김영래     52.0   \n",
       "1073 2000-01-30   제주    3    동부로    김기환    한성택    1        한    임용찬     55.0   \n",
       "1074 2000-01-30   제주    3   쓰리쎄븐    심도연    김덕인    1        한    박석천     54.0   \n",
       "\n",
       "       wgHr  win  isWin  sex_거  sex_수  sex_암  \n",
       "1072  204.0   21  False      0      1      0  \n",
       "1073  238.0    2  False      0      1      0  \n",
       "1074  216.0    2  False      0      0      1  "
      ]
     },
     "execution_count": 10,
     "metadata": {},
     "output_type": "execute_result"
    }
   ],
   "source": [
    "cols_to_transform = ['sex']\n",
    "train = pd.get_dummies(train, columns=cols_to_transform)\n",
    "train.head(3)"
   ]
  },
  {
   "cell_type": "markdown",
   "metadata": {},
   "source": [
    "# Modeling"
   ]
  },
  {
   "cell_type": "code",
   "execution_count": 12,
   "metadata": {
    "collapsed": false
   },
   "outputs": [],
   "source": [
    "predictors = [\"plc\", \"win\"]\n",
    "x = train[predictors]\n",
    "y = train[\"isWin\"]"
   ]
  },
  {
   "cell_type": "markdown",
   "metadata": {},
   "source": [
    "## DecisionTree & RandomForest"
   ]
  },
  {
   "cell_type": "code",
   "execution_count": 13,
   "metadata": {
    "collapsed": true
   },
   "outputs": [],
   "source": [
    "from sklearn.tree import DecisionTreeClassifier\n",
    "from sklearn.ensemble import RandomForestClassifier"
   ]
  },
  {
   "cell_type": "code",
   "execution_count": 14,
   "metadata": {
    "collapsed": false
   },
   "outputs": [
    {
     "name": "stdout",
     "output_type": "stream",
     "text": [
      "RandomForestClassifier(bootstrap=True, class_weight=None, criterion='gini',\n",
      "            max_depth=None, max_features='auto', max_leaf_nodes=None,\n",
      "            min_impurity_split=1e-07, min_samples_leaf=1,\n",
      "            min_samples_split=2, min_weight_fraction_leaf=0.0,\n",
      "            n_estimators=10, n_jobs=-1, oob_score=False, random_state=None,\n",
      "            verbose=0, warm_start=False)\n"
     ]
    }
   ],
   "source": [
    "decision = DecisionTreeClassifier().fit(x,y)\n",
    "forest = RandomForestClassifier(n_jobs=-1).fit(x,y)\n",
    "print(forest)"
   ]
  },
  {
   "cell_type": "markdown",
   "metadata": {},
   "source": [
    "## Cross Validation"
   ]
  },
  {
   "cell_type": "code",
   "execution_count": 15,
   "metadata": {
    "collapsed": false
   },
   "outputs": [],
   "source": [
    "from sklearn.model_selection import cross_val_score\n",
    "from sklearn.model_selection import KFold"
   ]
  },
  {
   "cell_type": "code",
   "execution_count": 17,
   "metadata": {
    "collapsed": false,
    "scrolled": true
   },
   "outputs": [
    {
     "name": "stdout",
     "output_type": "stream",
     "text": [
      "DecisionTree = 0.899604\n",
      "RandomForest = 0.899716\n"
     ]
    }
   ],
   "source": [
    "decision_score = cross_val_score(decision, x, y, cv=5).mean()\n",
    "forst_score = cross_val_score(forest, x, y, cv=5).mean()\n",
    "\n",
    "print(\"DecisionTree = {0:.6f}\".format(decision_score))\n",
    "print(\"RandomForest = {0:.6f}\".format(forst_score))"
   ]
  },
  {
   "cell_type": "markdown",
   "metadata": {},
   "source": [
    "# Result\n",
    "- plc, win: 0.899656\n",
    "- age, sex: 0.895907"
   ]
  }
 ],
 "metadata": {
  "kernelspec": {
   "display_name": "Python 3",
   "language": "python",
   "name": "python3"
  },
  "language_info": {
   "codemirror_mode": {
    "name": "ipython",
    "version": 3
   },
   "file_extension": ".py",
   "mimetype": "text/x-python",
   "name": "python",
   "nbconvert_exporter": "python",
   "pygments_lexer": "ipython3",
   "version": "3.5.1"
  }
 },
 "nbformat": 4,
 "nbformat_minor": 2
}
