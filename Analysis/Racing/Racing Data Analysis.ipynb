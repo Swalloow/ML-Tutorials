{
 "cells": [
  {
   "cell_type": "markdown",
   "metadata": {},
   "source": [
    "# Racing Data Analysis"
   ]
  },
  {
   "cell_type": "code",
   "execution_count": 1,
   "metadata": {
    "collapsed": true
   },
   "outputs": [],
   "source": [
    "import numpy as np\n",
    "import pandas as pd"
   ]
  },
  {
   "cell_type": "code",
   "execution_count": 2,
   "metadata": {
    "collapsed": false,
    "scrolled": true
   },
   "outputs": [
    {
     "data": {
      "text/html": [
       "<div>\n",
       "<table border=\"1\" class=\"dataframe\">\n",
       "  <thead>\n",
       "    <tr style=\"text-align: right;\">\n",
       "      <th></th>\n",
       "      <th>rcDate</th>\n",
       "      <th>meet</th>\n",
       "      <th>rcNo</th>\n",
       "      <th>ord</th>\n",
       "      <th>rcTime</th>\n",
       "      <th>age</th>\n",
       "      <th>chulNo</th>\n",
       "      <th>corner_txt</th>\n",
       "      <th>differ</th>\n",
       "      <th>hrName</th>\n",
       "      <th>...</th>\n",
       "      <th>owName</th>\n",
       "      <th>plc</th>\n",
       "      <th>prdCtyNm</th>\n",
       "      <th>sex</th>\n",
       "      <th>trName</th>\n",
       "      <th>wgBudam</th>\n",
       "      <th>wgHr</th>\n",
       "      <th>win</th>\n",
       "      <th>year</th>\n",
       "      <th>isWin</th>\n",
       "    </tr>\n",
       "  </thead>\n",
       "  <tbody>\n",
       "    <tr>\n",
       "      <th>115587</th>\n",
       "      <td>2017-01-06</td>\n",
       "      <td>부경</td>\n",
       "      <td>12</td>\n",
       "      <td>5</td>\n",
       "      <td>01:15:01</td>\n",
       "      <td>5</td>\n",
       "      <td>5</td>\n",
       "      <td>10 -  -  - 11 - 11 - 11 - 9</td>\n",
       "      <td>코</td>\n",
       "      <td>바이오블루</td>\n",
       "      <td>...</td>\n",
       "      <td>이태희</td>\n",
       "      <td>5</td>\n",
       "      <td>한</td>\n",
       "      <td>거</td>\n",
       "      <td>임금만</td>\n",
       "      <td>53.5</td>\n",
       "      <td>507.0</td>\n",
       "      <td>15</td>\n",
       "      <td>2017</td>\n",
       "      <td>False</td>\n",
       "    </tr>\n",
       "    <tr>\n",
       "      <th>115594</th>\n",
       "      <td>2017-01-06</td>\n",
       "      <td>부경</td>\n",
       "      <td>13</td>\n",
       "      <td>5</td>\n",
       "      <td>01:43:00</td>\n",
       "      <td>5</td>\n",
       "      <td>11</td>\n",
       "      <td>5 -  - 8 - 9 - 10 - 8 - 6</td>\n",
       "      <td>¾</td>\n",
       "      <td>겨울왕국</td>\n",
       "      <td>...</td>\n",
       "      <td>유상호</td>\n",
       "      <td>3</td>\n",
       "      <td>미</td>\n",
       "      <td>암</td>\n",
       "      <td>안우성</td>\n",
       "      <td>51.5</td>\n",
       "      <td>437.0</td>\n",
       "      <td>49</td>\n",
       "      <td>2017</td>\n",
       "      <td>False</td>\n",
       "    </tr>\n",
       "    <tr>\n",
       "      <th>115602</th>\n",
       "      <td>2017-01-06</td>\n",
       "      <td>부경</td>\n",
       "      <td>13</td>\n",
       "      <td>6</td>\n",
       "      <td>01:43:00</td>\n",
       "      <td>6</td>\n",
       "      <td>8</td>\n",
       "      <td>3 -  - 2 - 3 - 2 - 4 - 4</td>\n",
       "      <td>¾</td>\n",
       "      <td>팔마의선두</td>\n",
       "      <td>...</td>\n",
       "      <td>최병부</td>\n",
       "      <td>8</td>\n",
       "      <td>미</td>\n",
       "      <td>수</td>\n",
       "      <td>조용배</td>\n",
       "      <td>56.0</td>\n",
       "      <td>467.0</td>\n",
       "      <td>64</td>\n",
       "      <td>2017</td>\n",
       "      <td>False</td>\n",
       "    </tr>\n",
       "  </tbody>\n",
       "</table>\n",
       "<p>3 rows × 21 columns</p>\n",
       "</div>"
      ],
      "text/plain": [
       "            rcDate meet  rcNo  ord    rcTime  age  chulNo  \\\n",
       "115587  2017-01-06   부경    12    5  01:15:01    5       5   \n",
       "115594  2017-01-06   부경    13    5  01:43:00    5      11   \n",
       "115602  2017-01-06   부경    13    6  01:43:00    6       8   \n",
       "\n",
       "                         corner_txt differ hrName  ...   owName plc  prdCtyNm  \\\n",
       "115587  10 -  -  - 11 - 11 - 11 - 9      코  바이오블루  ...      이태희   5         한   \n",
       "115594    5 -  - 8 - 9 - 10 - 8 - 6      ¾   겨울왕국  ...      유상호   3         미   \n",
       "115602     3 -  - 2 - 3 - 2 - 4 - 4      ¾  팔마의선두  ...      최병부   8         미   \n",
       "\n",
       "       sex trName wgBudam   wgHr  win  year  isWin  \n",
       "115587   거    임금만    53.5  507.0   15  2017  False  \n",
       "115594   암    안우성    51.5  437.0   49  2017  False  \n",
       "115602   수    조용배    56.0  467.0   64  2017  False  \n",
       "\n",
       "[3 rows x 21 columns]"
      ]
     },
     "execution_count": 2,
     "metadata": {},
     "output_type": "execute_result"
    }
   ],
   "source": [
    "df = pd.read_csv(\"../Dataset/hr_test.csv\")\n",
    "df = df.drop(['Unnamed: 0'], axis=1)\n",
    "win = df[df['ord'] == 1]\n",
    "lose = df[df['ord'].isin([5, 6])]\n",
    "lose.tail(3)"
   ]
  },
  {
   "cell_type": "markdown",
   "metadata": {},
   "source": [
    "## 1. Feature Age"
   ]
  },
  {
   "cell_type": "code",
   "execution_count": 3,
   "metadata": {
    "collapsed": false
   },
   "outputs": [],
   "source": [
    "import matplotlib.pyplot as plt\n",
    "import seaborn"
   ]
  },
  {
   "cell_type": "code",
   "execution_count": 4,
   "metadata": {
    "collapsed": false
   },
   "outputs": [
    {
     "data": {
      "text/plain": [
       "<Container object of 10659 artists>"
      ]
     },
     "execution_count": 4,
     "metadata": {},
     "output_type": "execute_result"
    }
   ],
   "source": [
    "fig = plt.figure()\n",
    "ax1 = fig.add_subplot(211)\n",
    "y = win['age'].tolist()\n",
    "x = range(len(y))\n",
    "ax1.set_title(\"Winner\")\n",
    "ax1.bar(x, y, color=\"#6799FF\")"
   ]
  },
  {
   "cell_type": "code",
   "execution_count": 5,
   "metadata": {
    "collapsed": false
   },
   "outputs": [
    {
     "data": {
      "text/plain": [
       "<Container object of 21327 artists>"
      ]
     },
     "execution_count": 5,
     "metadata": {},
     "output_type": "execute_result"
    }
   ],
   "source": [
    "ax2 = fig.add_subplot(212)\n",
    "y = lose['age'].tolist()\n",
    "x = range(len(y))\n",
    "ax2.set_title(\"Loser\")\n",
    "ax2.bar(x, y, color=\"#6799FF\")"
   ]
  },
  {
   "cell_type": "code",
   "execution_count": 6,
   "metadata": {
    "collapsed": false
   },
   "outputs": [
    {
     "data": {
      "image/png": "[encoded data removed]",
      "text/plain": [
       "<matplotlib.figure.Figure at 0x116badf98>"
      ]
     },
     "metadata": {},
     "output_type": "display_data"
    }
   ],
   "source": [
    "fig = plt.gcf()\n",
    "plt.show()"
   ]
  },
  {
   "cell_type": "markdown",
   "metadata": {},
   "source": [
    "## 2. Feature Weights"
   ]
  },
  {
   "cell_type": "code",
   "execution_count": 7,
   "metadata": {
    "collapsed": true
   },
   "outputs": [],
   "source": [
    "soul = win[win['meet'] == \"서울\"]\n",
    "bukg = win[win['meet'] == \"부경\"]\n",
    "jeju = win[win['meet'] == \"제주\"]"
   ]
  },
  {
   "cell_type": "code",
   "execution_count": 8,
   "metadata": {
    "collapsed": false
   },
   "outputs": [
    {
     "data": {
      "text/plain": [
       "<matplotlib.text.Text at 0x116ff4f98>"
      ]
     },
     "execution_count": 8,
     "metadata": {},
     "output_type": "execute_result"
    }
   ],
   "source": [
    "fig = plt.figure()\n",
    "ax1 = fig.add_subplot(311)\n",
    "y = soul['wgHr'].tolist()\n",
    "x = range(len(y))\n",
    "ax1.bar(x, y, color=\"#6799FF\")\n",
    "ax1.set_title(\"Seoul\")"
   ]
  },
  {
   "cell_type": "code",
   "execution_count": 9,
   "metadata": {
    "collapsed": false
   },
   "outputs": [
    {
     "data": {
      "text/plain": [
       "<matplotlib.text.Text at 0x134c7f4a8>"
      ]
     },
     "execution_count": 9,
     "metadata": {},
     "output_type": "execute_result"
    }
   ],
   "source": [
    "ax2 = fig.add_subplot(312)\n",
    "y = bukg['wgHr'].tolist()\n",
    "x = range(len(y))\n",
    "ax2.bar(x, y, color=\"#6799FF\")\n",
    "ax2.set_title(\"Bukyoung\")"
   ]
  },
  {
   "cell_type": "code",
   "execution_count": 10,
   "metadata": {
    "collapsed": false
   },
   "outputs": [
    {
     "data": {
      "text/plain": [
       "<matplotlib.text.Text at 0x137703eb8>"
      ]
     },
     "execution_count": 10,
     "metadata": {},
     "output_type": "execute_result"
    }
   ],
   "source": [
    "ax3 = fig.add_subplot(313)\n",
    "y = jeju['wgHr'].tolist()\n",
    "x = range(len(y))\n",
    "ax3.bar(x, y, color=\"#6799FF\")\n",
    "ax3.set_title(\"Jeju\")"
   ]
  },
  {
   "cell_type": "code",
   "execution_count": 11,
   "metadata": {
    "collapsed": false
   },
   "outputs": [
    {
     "data": {
      "image/png": "[encoded data removed]",
      "text/plain": [
       "<matplotlib.figure.Figure at 0x116d5b518>"
      ]
     },
     "metadata": {},
     "output_type": "display_data"
    }
   ],
   "source": [
    "fig = plt.gcf()\n",
    "plt.show()"
   ]
  },
  {
   "cell_type": "markdown",
   "metadata": {},
   "source": [
    "## 3. Feature Sex"
   ]
  },
  {
   "cell_type": "code",
   "execution_count": 12,
   "metadata": {
    "collapsed": true
   },
   "outputs": [],
   "source": [
    "w = len(win[win['sex'] == \"암\"].index)\n",
    "g = len(win[win['sex'] == \"거\"].index)\n",
    "m = len(win[win['sex'] == \"수\"].index)"
   ]
  },
  {
   "cell_type": "code",
   "execution_count": 13,
   "metadata": {
    "collapsed": false,
    "scrolled": false
   },
   "outputs": [],
   "source": [
    "fig = plt.figure()\n",
    "y = [w, g, m]\n",
    "x = range(len(y))\n",
    "xticks = ['w','g','m']"
   ]
  },
  {
   "cell_type": "code",
   "execution_count": 15,
   "metadata": {
    "collapsed": false,
    "scrolled": true
   },
   "outputs": [
    {
     "data": {
      "image/png": "[encoded data removed]",
      "text/plain": [
       "<matplotlib.figure.Figure at 0x11715e9b0>"
      ]
     },
     "metadata": {},
     "output_type": "display_data"
    }
   ],
   "source": [
    "plt.xticks(x, xticks)\n",
    "plt.bar(x, y, color=\"#6799FF\")\n",
    "plt.show()"
   ]
  },
  {
   "cell_type": "markdown",
   "metadata": {},
   "source": [
    "## 4. Feature RcNumber"
   ]
  },
  {
   "cell_type": "code",
   "execution_count": 16,
   "metadata": {
    "collapsed": false
   },
   "outputs": [],
   "source": [
    "rcNum = win['rcNo'].unique().tolist()\n",
    "rcNum.sort()\n",
    "index = [win[win['rcNo'] == i].index.values.size for i in rcNum]"
   ]
  },
  {
   "cell_type": "code",
   "execution_count": 17,
   "metadata": {
    "collapsed": false
   },
   "outputs": [],
   "source": [
    "fig = plt.figure()\n",
    "y = index\n",
    "x = rcNum\n",
    "xticks = rcNum"
   ]
  },
  {
   "cell_type": "code",
   "execution_count": 18,
   "metadata": {
    "collapsed": false
   },
   "outputs": [
    {
     "data": {
      "image/png": "[encoded data removed]",
      "text/plain": [
       "<matplotlib.figure.Figure at 0x11c7d1b38>"
      ]
     },
     "metadata": {},
     "output_type": "display_data"
    }
   ],
   "source": [
    "plt.xticks(x, xticks)\n",
    "plt.bar(x, y, color=\"#6799FF\")\n",
    "plt.show()"
   ]
  }
 ],
 "metadata": {
  "kernelspec": {
   "display_name": "Python 3",
   "language": "python",
   "name": "python3"
  },
  "language_info": {
   "codemirror_mode": {
    "name": "ipython",
    "version": 3
   },
   "file_extension": ".py",
   "mimetype": "text/x-python",
   "name": "python",
   "nbconvert_exporter": "python",
   "pygments_lexer": "ipython3",
   "version": "3.5.1"
  }
 },
 "nbformat": 4,
 "nbformat_minor": 2
}
